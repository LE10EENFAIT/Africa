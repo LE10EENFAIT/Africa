{
 "cells": [
  {
   "cell_type": "markdown",
   "metadata": {},
   "source": [
    "\n",
    "# MediChal Challenge - Detecting Malaria with cell Images\n",
    "\n",
    "____"
   ]
  },
  {
   "cell_type": "markdown",
   "metadata": {},
   "source": [
    "<img src=\"./logo.jpg\" width=\"200\" height=\"200\" align=\"left\"> \n",
    "\n",
    "## Team MEDICHAL :\n",
    "- Théo Deschamps-Berger\n",
    "- Simon Monteiro\n",
    "- Xienneng Xu\n",
    "- Nicolas Devatine\n",
    "- Clément Veyssière\n",
    "- Corentin Leloup\n",
    "- Ramine Hamidi\n"
   ]
  },
  {
   "cell_type": "markdown",
   "metadata": {},
   "source": [
    "<div style=\"background:#FFFFAA\">\n",
    "    <h2>Introduction </h2>\n",
    "    <p>\n",
    "        <br>       \n",
    " \n",
    "     \n",
    "The problem we try to solve here is the diagnosis of malaria using images of cells that are whether infected or not. It is a binary classification problem from the data set found here at <a href=https://www.kaggle.com/iarunava/cell-images-for-detecting-malaria>\"Cell images for detecting malaria\"</a>. The data set contains around 27 thousand images, that are balanced between the 2 classes. The way we proceed here is to extract features from the images instead of using images directly as inputs to the model we use for predictions.\n",
    "\n",
    " \n",
    "</div>"
   ]
  },
  {
   "cell_type": "markdown",
   "metadata": {},
   "source": [
    "<p align=\"center\">\n",
    "  <img src=\"example_cells.png\">\n",
    "</p>\n",
    "<center>Example of parasitized and uninfected cells</center>"
   ]
  },
  {
   "cell_type": "code",
   "execution_count": 4,
   "metadata": {},
   "outputs": [],
   "source": [
    "import sys\n",
    "model_dir = 'sample_code_submission/'                        # Change the model to a better one once you have one!\n",
    "result_dir = 'sample_result_submission/' \n",
    "problem_dir = 'ingestion_program/'  \n",
    "score_dir = 'scoring_program/'\n",
    "from sys import path; path.append(model_dir); path.append(problem_dir); path.append(score_dir); \n",
    "%matplotlib inline\n",
    "# Uncomment the next lines to auto-reload libraries (this causes some problem with pickles in Python 3)\n",
    "%load_ext autoreload\n",
    "%autoreload 2\n",
    "import seaborn as sns; sns.set()\n",
    "import warnings\n",
    "warnings.simplefilter(action='ignore', category=FutureWarning)"
   ]
  },
  {
   "cell_type": "markdown",
   "metadata": {},
   "source": [
    "<div style=\"background:#FFFFAA\">\n",
    "    <h1> Step 1: Exploratory data analysis </h1>\n",
    "<p>\n",
    "We provide sample_data with the starting kit, but to prepare your submission, you must fetch the public_data from the challenge website and point to it.\n",
    "    <br>\n",
    "    <span style=\"color:red\"> Just change the data name in the block below. In the rest of the section, replace the sample plots by anything you want. </span>\n",
    "</div>"
   ]
  },
  {
   "cell_type": "markdown",
   "metadata": {},
   "source": [
    "### Quality of the data\n",
    "\n",
    "Our data is composed of images that we preprocessed to extract features. Therefore we do not have any missing data in any feature because we created the features ourselves. There may be one artefact which is the fact that the background is black, and we may wonder if infected cells might be smaller (or the contrary), which would provide us darker images and a higher (or lower) average of gray "
   ]
  },
  {
   "cell_type": "code",
   "execution_count": 5,
   "metadata": {},
   "outputs": [
    {
     "name": "stdout",
     "output_type": "stream",
     "text": [
      "\u001b[31mmalaria_feat.name\u001b[m\u001b[m      \u001b[31mmalaria_test.data\u001b[m\u001b[m      \u001b[31mmalaria_valid.data\u001b[m\u001b[m\r\n",
      "\u001b[31mmalaria_label.name\u001b[m\u001b[m     \u001b[31mmalaria_test.solution\u001b[m\u001b[m  \u001b[31mmalaria_valid.solution\u001b[m\u001b[m\r\n",
      "\u001b[31mmalaria_private.info\u001b[m\u001b[m   \u001b[31mmalaria_train.data\u001b[m\u001b[m\r\n",
      "\u001b[31mmalaria_public.info\u001b[m\u001b[m    \u001b[31mmalaria_train.solution\u001b[m\u001b[m\r\n"
     ]
    }
   ],
   "source": [
    "data_dir = 'sample_data'              # Change this to the directory where you put the input data\n",
    "data_name = 'malaria'\n",
    "\n",
    "!ls $data_dir* # Linux command\n",
    "# !dir $data_dir # Windows command"
   ]
  },
  {
   "cell_type": "markdown",
   "metadata": {},
   "source": [
    "For convenience, we load the data as a \"pandas\" data frame, so we can use \"pandas\" and \"seaborn\" built in functions to explore the data."
   ]
  },
  {
   "cell_type": "code",
   "execution_count": 6,
   "metadata": {},
   "outputs": [
    {
     "name": "stdout",
     "output_type": "stream",
     "text": [
      "Reading sample_data/malaria_train from AutoML format\n",
      "Number of examples = 600\n",
      "Number of features = 19\n",
      "         Class\n",
      "0   uninfected\n",
      "1  parasitized\n",
      "Number of classes = 2\n"
     ]
    },
    {
     "data": {
      "image/png": "[encoded data removed]",
      "text/plain": [
       "<Figure size 432x288 with 1 Axes>"
      ]
     },
     "metadata": {
      "needs_background": "light"
     },
     "output_type": "display_data"
    }
   ],
   "source": [
    "from data_io import read_as_df\n",
    "import matplotlib.pyplot as plt\n",
    "import numpy as np\n",
    "import pandas as pd\n",
    "\n",
    "data = read_as_df(data_dir  + '/' + data_name)                # The data are loaded as a Pandas Data Frame\n",
    "\n",
    "nb_p=np.sum(data.target == 'parasitized')\n",
    "nb_u=np.sum(data.target == 'uninfected')\n",
    "\n",
    "p = pd.DataFrame({'labels':['parasitized', 'uninfected'],'number of cells': [nb_p, nb_u]})\n",
    "ax = p.plot.bar(x='labels', y='number of cells', rot=0),\n",
    "plt.text(-0.12, nb_p/2, nb_p , size=20, color='r'),\n",
    "plt.text(0.9, nb_u/2, nb_u , size=20, color='g'),plt.title('Distribution of our cells images')\n",
    "plt.show()"
   ]
  },
  {
   "cell_type": "code",
   "execution_count": 7,
   "metadata": {
    "scrolled": true
   },
   "outputs": [
    {
     "data": {
      "text/html": [
       "<div>\n",
       "<style scoped>\n",
       "    .dataframe tbody tr th:only-of-type {\n",
       "        vertical-align: middle;\n",
       "    }\n",
       "\n",
       "    .dataframe tbody tr th {\n",
       "        vertical-align: top;\n",
       "    }\n",
       "\n",
       "    .dataframe thead th {\n",
       "        text-align: right;\n",
       "    }\n",
       "</style>\n",
       "<table border=\"1\" class=\"dataframe\">\n",
       "  <thead>\n",
       "    <tr style=\"text-align: right;\">\n",
       "      <th></th>\n",
       "      <th>nb_black_pixels</th>\n",
       "      <th>var_color</th>\n",
       "      <th>mean_color</th>\n",
       "      <th>min_color</th>\n",
       "      <th>max_color</th>\n",
       "      <th>var_gray</th>\n",
       "      <th>mean_gray</th>\n",
       "      <th>min_gray</th>\n",
       "      <th>max_gray</th>\n",
       "      <th>nb_pixel_0.0_0.1</th>\n",
       "      <th>nb_pixel_0.1_0.2</th>\n",
       "      <th>nb_pixel_0.2_0.3</th>\n",
       "      <th>nb_pixel_0.3_0.4</th>\n",
       "      <th>nb_pixel_0.4_0.5</th>\n",
       "      <th>nb_pixel_0.5_0.6</th>\n",
       "      <th>nb_pixel_0.6_0.7</th>\n",
       "      <th>nb_pixel_0.7_0.8</th>\n",
       "      <th>nb_pixel_0.8_0.9</th>\n",
       "      <th>nb_pixel_0.9_1.0</th>\n",
       "      <th>target</th>\n",
       "    </tr>\n",
       "  </thead>\n",
       "  <tbody>\n",
       "    <tr>\n",
       "      <td>0</td>\n",
       "      <td>2931</td>\n",
       "      <td>0.000137</td>\n",
       "      <td>0.845855</td>\n",
       "      <td>0.824013</td>\n",
       "      <td>0.865132</td>\n",
       "      <td>0.472216</td>\n",
       "      <td>0.595646</td>\n",
       "      <td>0.525490</td>\n",
       "      <td>0.800000</td>\n",
       "      <td>0</td>\n",
       "      <td>0</td>\n",
       "      <td>0</td>\n",
       "      <td>0</td>\n",
       "      <td>0</td>\n",
       "      <td>0</td>\n",
       "      <td>0</td>\n",
       "      <td>7863</td>\n",
       "      <td>2488</td>\n",
       "      <td>288</td>\n",
       "      <td>uninfected</td>\n",
       "    </tr>\n",
       "    <tr>\n",
       "      <td>1</td>\n",
       "      <td>4245</td>\n",
       "      <td>0.000202</td>\n",
       "      <td>0.930566</td>\n",
       "      <td>0.910322</td>\n",
       "      <td>0.959391</td>\n",
       "      <td>0.074386</td>\n",
       "      <td>0.671309</td>\n",
       "      <td>0.623529</td>\n",
       "      <td>0.780392</td>\n",
       "      <td>0</td>\n",
       "      <td>0</td>\n",
       "      <td>0</td>\n",
       "      <td>0</td>\n",
       "      <td>0</td>\n",
       "      <td>0</td>\n",
       "      <td>0</td>\n",
       "      <td>0</td>\n",
       "      <td>11169</td>\n",
       "      <td>1876</td>\n",
       "      <td>uninfected</td>\n",
       "    </tr>\n",
       "    <tr>\n",
       "      <td>2</td>\n",
       "      <td>2982</td>\n",
       "      <td>0.000044</td>\n",
       "      <td>0.936200</td>\n",
       "      <td>0.921960</td>\n",
       "      <td>0.943739</td>\n",
       "      <td>0.658794</td>\n",
       "      <td>0.611819</td>\n",
       "      <td>0.392157</td>\n",
       "      <td>0.725490</td>\n",
       "      <td>0</td>\n",
       "      <td>0</td>\n",
       "      <td>0</td>\n",
       "      <td>0</td>\n",
       "      <td>0</td>\n",
       "      <td>1</td>\n",
       "      <td>110</td>\n",
       "      <td>775</td>\n",
       "      <td>4635</td>\n",
       "      <td>2307</td>\n",
       "      <td>parasitized</td>\n",
       "    </tr>\n",
       "    <tr>\n",
       "      <td>3</td>\n",
       "      <td>3027</td>\n",
       "      <td>0.000000</td>\n",
       "      <td>0.879195</td>\n",
       "      <td>0.879195</td>\n",
       "      <td>0.879195</td>\n",
       "      <td>0.213046</td>\n",
       "      <td>0.629835</td>\n",
       "      <td>0.568627</td>\n",
       "      <td>0.780392</td>\n",
       "      <td>0</td>\n",
       "      <td>0</td>\n",
       "      <td>0</td>\n",
       "      <td>0</td>\n",
       "      <td>0</td>\n",
       "      <td>0</td>\n",
       "      <td>0</td>\n",
       "      <td>1265</td>\n",
       "      <td>5215</td>\n",
       "      <td>175</td>\n",
       "      <td>parasitized</td>\n",
       "    </tr>\n",
       "    <tr>\n",
       "      <td>4</td>\n",
       "      <td>3369</td>\n",
       "      <td>0.000096</td>\n",
       "      <td>0.939902</td>\n",
       "      <td>0.926621</td>\n",
       "      <td>0.957338</td>\n",
       "      <td>0.060762</td>\n",
       "      <td>0.678734</td>\n",
       "      <td>0.529412</td>\n",
       "      <td>0.760784</td>\n",
       "      <td>0</td>\n",
       "      <td>0</td>\n",
       "      <td>0</td>\n",
       "      <td>0</td>\n",
       "      <td>0</td>\n",
       "      <td>0</td>\n",
       "      <td>0</td>\n",
       "      <td>14</td>\n",
       "      <td>5331</td>\n",
       "      <td>4856</td>\n",
       "      <td>uninfected</td>\n",
       "    </tr>\n",
       "  </tbody>\n",
       "</table>\n",
       "</div>"
      ],
      "text/plain": [
       "   nb_black_pixels  var_color  mean_color  min_color  max_color  var_gray  \\\n",
       "0             2931   0.000137    0.845855   0.824013   0.865132  0.472216   \n",
       "1             4245   0.000202    0.930566   0.910322   0.959391  0.074386   \n",
       "2             2982   0.000044    0.936200   0.921960   0.943739  0.658794   \n",
       "3             3027   0.000000    0.879195   0.879195   0.879195  0.213046   \n",
       "4             3369   0.000096    0.939902   0.926621   0.957338  0.060762   \n",
       "\n",
       "   mean_gray  min_gray  max_gray  nb_pixel_0.0_0.1  nb_pixel_0.1_0.2  \\\n",
       "0   0.595646  0.525490  0.800000                 0                 0   \n",
       "1   0.671309  0.623529  0.780392                 0                 0   \n",
       "2   0.611819  0.392157  0.725490                 0                 0   \n",
       "3   0.629835  0.568627  0.780392                 0                 0   \n",
       "4   0.678734  0.529412  0.760784                 0                 0   \n",
       "\n",
       "   nb_pixel_0.2_0.3  nb_pixel_0.3_0.4  nb_pixel_0.4_0.5  nb_pixel_0.5_0.6  \\\n",
       "0                 0                 0                 0                 0   \n",
       "1                 0                 0                 0                 0   \n",
       "2                 0                 0                 0                 1   \n",
       "3                 0                 0                 0                 0   \n",
       "4                 0                 0                 0                 0   \n",
       "\n",
       "   nb_pixel_0.6_0.7  nb_pixel_0.7_0.8  nb_pixel_0.8_0.9  nb_pixel_0.9_1.0  \\\n",
       "0                 0              7863              2488               288   \n",
       "1                 0                 0             11169              1876   \n",
       "2               110               775              4635              2307   \n",
       "3                 0              1265              5215               175   \n",
       "4                 0                14              5331              4856   \n",
       "\n",
       "        target  \n",
       "0   uninfected  \n",
       "1   uninfected  \n",
       "2  parasitized  \n",
       "3  parasitized  \n",
       "4   uninfected  "
      ]
     },
     "execution_count": 7,
     "metadata": {},
     "output_type": "execute_result"
    }
   ],
   "source": [
    "data.head()"
   ]
  },
  {
   "cell_type": "markdown",
   "metadata": {},
   "source": [
    "We have decided to reduce the dataset of images to a simpler dataset with only 19 features.\n",
    "\n",
    "`nb_black_pixels` counts pixels whose value is dark for gray_scale images, those around the cell in the image.\n",
    "\n",
    "`var_color` feature is simply the empirical variance of the values of the pixels for colored images.\n",
    "\n",
    "`mean_color` feature is simply the mean of the values of the pixels for colored images.\n",
    "\n",
    "`max_color` is the maximum value for colored images.\n",
    "\n",
    "`min_color` is the maximum value for colored images.\n",
    "\n",
    "`var_gray`, `mean_gray`, `max_gray` and `min_gray` are the same but for gray-scale images.\n",
    "\n",
    "`nb_pixel_i_j` is the number of pixels having their value (intensity : 0 = black | 1 = white) between i and j for gray-scale images."
   ]
  },
  {
   "cell_type": "code",
   "execution_count": 8,
   "metadata": {
    "scrolled": false
   },
   "outputs": [
    {
     "data": {
      "text/html": [
       "<div>\n",
       "<style scoped>\n",
       "    .dataframe tbody tr th:only-of-type {\n",
       "        vertical-align: middle;\n",
       "    }\n",
       "\n",
       "    .dataframe tbody tr th {\n",
       "        vertical-align: top;\n",
       "    }\n",
       "\n",
       "    .dataframe thead th {\n",
       "        text-align: right;\n",
       "    }\n",
       "</style>\n",
       "<table border=\"1\" class=\"dataframe\">\n",
       "  <thead>\n",
       "    <tr style=\"text-align: right;\">\n",
       "      <th></th>\n",
       "      <th>nb_black_pixels</th>\n",
       "      <th>var_color</th>\n",
       "      <th>mean_color</th>\n",
       "      <th>min_color</th>\n",
       "      <th>max_color</th>\n",
       "      <th>var_gray</th>\n",
       "      <th>mean_gray</th>\n",
       "      <th>min_gray</th>\n",
       "      <th>max_gray</th>\n",
       "      <th>nb_pixel_0.0_0.1</th>\n",
       "      <th>nb_pixel_0.1_0.2</th>\n",
       "      <th>nb_pixel_0.2_0.3</th>\n",
       "      <th>nb_pixel_0.3_0.4</th>\n",
       "      <th>nb_pixel_0.4_0.5</th>\n",
       "      <th>nb_pixel_0.5_0.6</th>\n",
       "      <th>nb_pixel_0.6_0.7</th>\n",
       "      <th>nb_pixel_0.7_0.8</th>\n",
       "      <th>nb_pixel_0.8_0.9</th>\n",
       "      <th>nb_pixel_0.9_1.0</th>\n",
       "    </tr>\n",
       "  </thead>\n",
       "  <tbody>\n",
       "    <tr>\n",
       "      <td>count</td>\n",
       "      <td>600.000000</td>\n",
       "      <td>600.000000</td>\n",
       "      <td>600.000000</td>\n",
       "      <td>600.000000</td>\n",
       "      <td>600.000000</td>\n",
       "      <td>600.000000</td>\n",
       "      <td>600.000000</td>\n",
       "      <td>600.000000</td>\n",
       "      <td>600.000000</td>\n",
       "      <td>600.0</td>\n",
       "      <td>600.0</td>\n",
       "      <td>600.000000</td>\n",
       "      <td>600.000000</td>\n",
       "      <td>600.000000</td>\n",
       "      <td>600.000000</td>\n",
       "      <td>600.000000</td>\n",
       "      <td>600.000000</td>\n",
       "      <td>600.000000</td>\n",
       "      <td>600.000000</td>\n",
       "    </tr>\n",
       "    <tr>\n",
       "      <td>mean</td>\n",
       "      <td>5184.086667</td>\n",
       "      <td>0.000197</td>\n",
       "      <td>0.929491</td>\n",
       "      <td>0.912427</td>\n",
       "      <td>0.948792</td>\n",
       "      <td>0.459185</td>\n",
       "      <td>0.638324</td>\n",
       "      <td>0.424261</td>\n",
       "      <td>0.768013</td>\n",
       "      <td>0.0</td>\n",
       "      <td>0.0</td>\n",
       "      <td>0.020000</td>\n",
       "      <td>1.073333</td>\n",
       "      <td>10.231667</td>\n",
       "      <td>52.301667</td>\n",
       "      <td>243.536667</td>\n",
       "      <td>1635.693333</td>\n",
       "      <td>7489.048333</td>\n",
       "      <td>3310.493333</td>\n",
       "    </tr>\n",
       "    <tr>\n",
       "      <td>std</td>\n",
       "      <td>2139.027009</td>\n",
       "      <td>0.000667</td>\n",
       "      <td>0.045088</td>\n",
       "      <td>0.053316</td>\n",
       "      <td>0.038708</td>\n",
       "      <td>0.410921</td>\n",
       "      <td>0.049309</td>\n",
       "      <td>0.170066</td>\n",
       "      <td>0.034952</td>\n",
       "      <td>0.0</td>\n",
       "      <td>0.0</td>\n",
       "      <td>0.264038</td>\n",
       "      <td>8.377645</td>\n",
       "      <td>31.160385</td>\n",
       "      <td>252.985500</td>\n",
       "      <td>851.855685</td>\n",
       "      <td>2780.180998</td>\n",
       "      <td>4034.486055</td>\n",
       "      <td>3650.294262</td>\n",
       "    </tr>\n",
       "    <tr>\n",
       "      <td>min</td>\n",
       "      <td>963.000000</td>\n",
       "      <td>0.000000</td>\n",
       "      <td>0.583928</td>\n",
       "      <td>0.482818</td>\n",
       "      <td>0.783505</td>\n",
       "      <td>0.027796</td>\n",
       "      <td>0.424647</td>\n",
       "      <td>0.105882</td>\n",
       "      <td>0.623529</td>\n",
       "      <td>0.0</td>\n",
       "      <td>0.0</td>\n",
       "      <td>0.000000</td>\n",
       "      <td>0.000000</td>\n",
       "      <td>0.000000</td>\n",
       "      <td>0.000000</td>\n",
       "      <td>0.000000</td>\n",
       "      <td>0.000000</td>\n",
       "      <td>0.000000</td>\n",
       "      <td>11.000000</td>\n",
       "    </tr>\n",
       "    <tr>\n",
       "      <td>25%</td>\n",
       "      <td>3762.000000</td>\n",
       "      <td>0.000030</td>\n",
       "      <td>0.903840</td>\n",
       "      <td>0.883494</td>\n",
       "      <td>0.928082</td>\n",
       "      <td>0.172307</td>\n",
       "      <td>0.614120</td>\n",
       "      <td>0.254902</td>\n",
       "      <td>0.749020</td>\n",
       "      <td>0.0</td>\n",
       "      <td>0.0</td>\n",
       "      <td>0.000000</td>\n",
       "      <td>0.000000</td>\n",
       "      <td>0.000000</td>\n",
       "      <td>0.000000</td>\n",
       "      <td>0.000000</td>\n",
       "      <td>2.000000</td>\n",
       "      <td>4298.750000</td>\n",
       "      <td>879.750000</td>\n",
       "    </tr>\n",
       "    <tr>\n",
       "      <td>50%</td>\n",
       "      <td>4683.000000</td>\n",
       "      <td>0.000077</td>\n",
       "      <td>0.941267</td>\n",
       "      <td>0.925253</td>\n",
       "      <td>0.958018</td>\n",
       "      <td>0.350564</td>\n",
       "      <td>0.644719</td>\n",
       "      <td>0.433333</td>\n",
       "      <td>0.764706</td>\n",
       "      <td>0.0</td>\n",
       "      <td>0.0</td>\n",
       "      <td>0.000000</td>\n",
       "      <td>0.000000</td>\n",
       "      <td>0.000000</td>\n",
       "      <td>0.000000</td>\n",
       "      <td>31.000000</td>\n",
       "      <td>222.500000</td>\n",
       "      <td>7929.500000</td>\n",
       "      <td>1822.500000</td>\n",
       "    </tr>\n",
       "    <tr>\n",
       "      <td>75%</td>\n",
       "      <td>5998.500000</td>\n",
       "      <td>0.000171</td>\n",
       "      <td>0.962483</td>\n",
       "      <td>0.951431</td>\n",
       "      <td>0.978365</td>\n",
       "      <td>0.612703</td>\n",
       "      <td>0.673477</td>\n",
       "      <td>0.588235</td>\n",
       "      <td>0.788235</td>\n",
       "      <td>0.0</td>\n",
       "      <td>0.0</td>\n",
       "      <td>0.000000</td>\n",
       "      <td>0.000000</td>\n",
       "      <td>6.000000</td>\n",
       "      <td>53.250000</td>\n",
       "      <td>123.000000</td>\n",
       "      <td>1842.250000</td>\n",
       "      <td>10441.000000</td>\n",
       "      <td>4206.750000</td>\n",
       "    </tr>\n",
       "    <tr>\n",
       "      <td>max</td>\n",
       "      <td>14793.000000</td>\n",
       "      <td>0.012663</td>\n",
       "      <td>0.998246</td>\n",
       "      <td>0.998246</td>\n",
       "      <td>1.000000</td>\n",
       "      <td>3.711164</td>\n",
       "      <td>0.745152</td>\n",
       "      <td>0.705882</td>\n",
       "      <td>0.929412</td>\n",
       "      <td>0.0</td>\n",
       "      <td>0.0</td>\n",
       "      <td>4.000000</td>\n",
       "      <td>150.000000</td>\n",
       "      <td>451.000000</td>\n",
       "      <td>3896.000000</td>\n",
       "      <td>7923.000000</td>\n",
       "      <td>12911.000000</td>\n",
       "      <td>17410.000000</td>\n",
       "      <td>17765.000000</td>\n",
       "    </tr>\n",
       "  </tbody>\n",
       "</table>\n",
       "</div>"
      ],
      "text/plain": [
       "       nb_black_pixels   var_color  mean_color   min_color   max_color  \\\n",
       "count       600.000000  600.000000  600.000000  600.000000  600.000000   \n",
       "mean       5184.086667    0.000197    0.929491    0.912427    0.948792   \n",
       "std        2139.027009    0.000667    0.045088    0.053316    0.038708   \n",
       "min         963.000000    0.000000    0.583928    0.482818    0.783505   \n",
       "25%        3762.000000    0.000030    0.903840    0.883494    0.928082   \n",
       "50%        4683.000000    0.000077    0.941267    0.925253    0.958018   \n",
       "75%        5998.500000    0.000171    0.962483    0.951431    0.978365   \n",
       "max       14793.000000    0.012663    0.998246    0.998246    1.000000   \n",
       "\n",
       "         var_gray   mean_gray    min_gray    max_gray  nb_pixel_0.0_0.1  \\\n",
       "count  600.000000  600.000000  600.000000  600.000000             600.0   \n",
       "mean     0.459185    0.638324    0.424261    0.768013               0.0   \n",
       "std      0.410921    0.049309    0.170066    0.034952               0.0   \n",
       "min      0.027796    0.424647    0.105882    0.623529               0.0   \n",
       "25%      0.172307    0.614120    0.254902    0.749020               0.0   \n",
       "50%      0.350564    0.644719    0.433333    0.764706               0.0   \n",
       "75%      0.612703    0.673477    0.588235    0.788235               0.0   \n",
       "max      3.711164    0.745152    0.705882    0.929412               0.0   \n",
       "\n",
       "       nb_pixel_0.1_0.2  nb_pixel_0.2_0.3  nb_pixel_0.3_0.4  nb_pixel_0.4_0.5  \\\n",
       "count             600.0        600.000000        600.000000        600.000000   \n",
       "mean                0.0          0.020000          1.073333         10.231667   \n",
       "std                 0.0          0.264038          8.377645         31.160385   \n",
       "min                 0.0          0.000000          0.000000          0.000000   \n",
       "25%                 0.0          0.000000          0.000000          0.000000   \n",
       "50%                 0.0          0.000000          0.000000          0.000000   \n",
       "75%                 0.0          0.000000          0.000000          6.000000   \n",
       "max                 0.0          4.000000        150.000000        451.000000   \n",
       "\n",
       "       nb_pixel_0.5_0.6  nb_pixel_0.6_0.7  nb_pixel_0.7_0.8  nb_pixel_0.8_0.9  \\\n",
       "count        600.000000        600.000000        600.000000        600.000000   \n",
       "mean          52.301667        243.536667       1635.693333       7489.048333   \n",
       "std          252.985500        851.855685       2780.180998       4034.486055   \n",
       "min            0.000000          0.000000          0.000000          0.000000   \n",
       "25%            0.000000          0.000000          2.000000       4298.750000   \n",
       "50%            0.000000         31.000000        222.500000       7929.500000   \n",
       "75%           53.250000        123.000000       1842.250000      10441.000000   \n",
       "max         3896.000000       7923.000000      12911.000000      17410.000000   \n",
       "\n",
       "       nb_pixel_0.9_1.0  \n",
       "count        600.000000  \n",
       "mean        3310.493333  \n",
       "std         3650.294262  \n",
       "min           11.000000  \n",
       "25%          879.750000  \n",
       "50%         1822.500000  \n",
       "75%         4206.750000  \n",
       "max        17765.000000  "
      ]
     },
     "execution_count": 8,
     "metadata": {},
     "output_type": "execute_result"
    }
   ],
   "source": [
    "data.describe() "
   ]
  },
  {
   "cell_type": "markdown",
   "metadata": {},
   "source": [
    "Histogram of our features:"
   ]
  },
  {
   "cell_type": "code",
   "execution_count": null,
   "metadata": {},
   "outputs": [],
   "source": [
    "import matplotlib.pyplot as plt\n",
    "\n",
    "plt.figure(figsize=(20,16))\n",
    "\n",
    "for t in range(19):\n",
    "    plt.subplot(4,5,t+1)\n",
    "    plt.hist(data[data.columns[t]])\n",
    "    plt.title(data.columns[t])\n",
    "    t+=1"
   ]
  },
  {
   "cell_type": "markdown",
   "metadata": {},
   "source": [
    "Let's try to indentify patterns with a pairplot, which will maybe give us structures for each class depending on 2 features."
   ]
  },
  {
   "cell_type": "code",
   "execution_count": null,
   "metadata": {},
   "outputs": [],
   "source": [
    "sns.pairplot(data[['target','nb_black_pixels','var_color','mean_color','min_color','max_color','var_gray','mean_gray','min_gray','max_gray']], hue=\"target\")"
   ]
  },
  {
   "cell_type": "markdown",
   "metadata": {},
   "source": [
    "Correlation of our features with the target: 'parasitized'"
   ]
  },
  {
   "cell_type": "code",
   "execution_count": 9,
   "metadata": {},
   "outputs": [
    {
     "data": {
      "image/png": "[encoded data removed]",
      "text/plain": [
       "<Figure size 720x576 with 2 Axes>"
      ]
     },
     "metadata": {
      "needs_background": "light"
     },
     "output_type": "display_data"
    },
    {
     "data": {
      "image/png": "[encoded data removed]",
      "text/plain": [
       "<Figure size 144x576 with 2 Axes>"
      ]
     },
     "metadata": {
      "needs_background": "light"
     },
     "output_type": "display_data"
    }
   ],
   "source": [
    "datatarget = pd.get_dummies(data['target'])['parasitized'].to_frame()\n",
    "new_df = pd.merge(data, datatarget, right_index=True, left_index=True)\n",
    "df_new = new_df.select_dtypes(include=np.number)\n",
    "\n",
    "plt.figure(figsize = (10, 8))\n",
    "ax = sns.heatmap(df_new.corr(),cmap=\"viridis\", xticklabels=True, yticklabels=True)\n",
    "\n",
    "d=pd.get_dummies(data['target'])['parasitized']\n",
    "\n",
    "n_df = pd.merge(d.to_frame(), data, right_index=True, left_index=True)\n",
    "df_n = n_df.select_dtypes(include=np.number).abs()\n",
    "\n",
    "\n",
    "plt.figure(figsize = (2, 8))\n",
    "ax = sns.heatmap(df_n.corr().abs().sort_values(['parasitized'], ascending=[0])[\"parasitized\"].to_frame(), cmap=\"viridis\", xticklabels=True, yticklabels=True)"
   ]
  },
  {
   "cell_type": "code",
   "execution_count": 10,
   "metadata": {},
   "outputs": [
    {
     "data": {
      "image/png": "[encoded data removed]",
      "text/plain": [
       "<Figure size 432x288 with 1 Axes>"
      ]
     },
     "metadata": {
      "needs_background": "light"
     },
     "output_type": "display_data"
    }
   ],
   "source": [
    "boxplot = data.boxplot(column=['nb_black_pixels'], by='target', )"
   ]
  },
  {
   "cell_type": "markdown",
   "metadata": {},
   "source": [
    "There seem to have no correlation between the number of black pixels and the target as well, then there is no dataleakage."
   ]
  },
  {
   "cell_type": "markdown",
   "metadata": {},
   "source": [
    "From the correlation matrix, the feature that has the highest correlation with the target is \"min_gray\"."
   ]
  },
  {
   "cell_type": "code",
   "execution_count": 11,
   "metadata": {},
   "outputs": [
    {
     "data": {
      "image/png": "[encoded data removed]",
      "text/plain": [
       "<Figure size 432x288 with 1 Axes>"
      ]
     },
     "metadata": {
      "needs_background": "light"
     },
     "output_type": "display_data"
    }
   ],
   "source": [
    "boxplot = data.boxplot(column=['min_gray'], by='target', )"
   ]
  },
  {
   "cell_type": "markdown",
   "metadata": {},
   "source": [
    "## Model and results analysis\n",
    "\n",
    "Here we run a sandbox test to introduce some metrics and ways to visualize results. We split the train set into train and test in order to perform these analysis, and we compute the confusion matrix for RandomForestClassifier with arbitrary hyper-parameters."
   ]
  },
  {
   "cell_type": "code",
   "execution_count": 12,
   "metadata": {},
   "outputs": [
    {
     "name": "stdout",
     "output_type": "stream",
     "text": [
      "Info file found : /Users/patault/Documents/GitHub/Africa/starting_kit/sample_data/malaria_public.info\n",
      "FIT: dim(X)= [402, 19]\n",
      "FIT: dim(y)= [402, 1]\n",
      "PREDICT: dim(X)= [198, 19]\n",
      "PREDICT: dim(y)= [198, 1]\n",
      "FIT: dim(X)= [402, 19]\n",
      "FIT: dim(y)= [402, 1]\n",
      "PREDICT: dim(X)= [198, 19]\n",
      "PREDICT: dim(y)= [198, 1]\n",
      "FIT: dim(X)= [402, 19]\n",
      "FIT: dim(y)= [402, 1]\n",
      "PREDICT: dim(X)= [198, 19]\n",
      "PREDICT: dim(y)= [198, 1]\n",
      "FIT: dim(X)= [402, 19]\n",
      "FIT: dim(y)= [402, 1]\n",
      "PREDICT: dim(X)= [198, 19]\n",
      "PREDICT: dim(y)= [198, 1]\n",
      "FIT: dim(X)= [402, 19]\n",
      "FIT: dim(y)= [402, 1]\n",
      "PREDICT: dim(X)= [198, 19]\n",
      "PREDICT: dim(y)= [198, 1]\n"
     ]
    }
   ],
   "source": [
    "from sklearn.model_selection import train_test_split\n",
    "from data_manager import DataManager\n",
    "from model import model\n",
    "from sklearn.metrics import confusion_matrix\n",
    "from sklearn.ensemble import RandomForestClassifier\n",
    "from sklearn.neural_network import MLPClassifier\n",
    "from sklearn.neighbors import KNeighborsClassifier\n",
    "from sklearn.naive_bayes import GaussianNB\n",
    "from sklearn.linear_model import SGDClassifier\n",
    "\n",
    "D = DataManager(data_name, data_dir, replace_missing=True)\n",
    "X_train_pre, X_test_pre, y_train_pre, y_test_pre = train_test_split(D.data['X_train'], D.data['Y_train'], test_size=0.33, random_state=42)\n",
    "\n",
    "# Load model\n",
    "# tableau des 5 modèles choisis\n",
    "classifiers = [\n",
    "    RandomForestClassifier(random_state=42, n_estimators=200, max_depth=None, max_features=None, min_samples_split=2),\n",
    "    MLPClassifier(solver='lbfgs'),\n",
    "    SGDClassifier(),\n",
    "    GaussianNB(),\n",
    "    KNeighborsClassifier()\n",
    "]\n",
    "\n",
    "# tableau des noms des classifieurs\n",
    "name_classifiers = [\n",
    "    'RandomForestClassifier',\n",
    "    'MLPClassifier',\n",
    "    'SGDClassifier',\n",
    "    'GaussianNB',\n",
    "    'KNeighborsClassifier'\n",
    "]\n",
    "\n",
    "# tableau des résultats pour chaque model\n",
    "results = []\n",
    "for i in classifiers:\n",
    "    M = model(i)\n",
    "    if not M.is_trained:\n",
    "        M.fit(X_train_pre, y_train_pre)\n",
    "    results.append(M.predict(X_test_pre))\n",
    "\n",
    "# tableau des matrices de confusion sur les résultats des 5 modèles\n",
    "matrices = []\n",
    "for i in results:\n",
    "    matrices.append(confusion_matrix(y_test_pre, i))"
   ]
  },
  {
   "cell_type": "markdown",
   "metadata": {},
   "source": [
    "This is the plot of the confusion matrix from the predictions performed."
   ]
  },
  {
   "cell_type": "code",
   "execution_count": 13,
   "metadata": {},
   "outputs": [
    {
     "data": {
      "image/png": "[encoded data removed]",
      "text/plain": [
       "<Figure size 432x2160 with 10 Axes>"
      ]
     },
     "metadata": {
      "needs_background": "light"
     },
     "output_type": "display_data"
    }
   ],
   "source": [
    "fig, ax = plt.subplots(nrows=5,ncols=1, figsize=(6, 30))\n",
    "for i in range(5):\n",
    "    sns.heatmap(matrices[i], annot=True, fmt='g', ax=ax[i]) #annot=True to annotate cells\n",
    "    # labels, title and ticks\n",
    "    ax[i].set_xlabel('Predicted labels')\n",
    "    ax[i].set_ylabel('True labels')\n",
    "    ax[i].set_title(name_classifiers[i]) \n",
    "    ax[i].xaxis.set_ticklabels(['Parasitized', 'Uninfected'])\n",
    "    ax[i].yaxis.set_ticklabels(['Parasitized', 'Uninfected'])\n",
    "\n",
    "plt.show()"
   ]
  },
  {
   "cell_type": "code",
   "execution_count": 14,
   "metadata": {},
   "outputs": [
    {
     "name": "stdout",
     "output_type": "stream",
     "text": [
      "Using scoring metric: roc_auc_score\n",
      "Score for RandomForestClassifier : \n",
      " 0.9501\n",
      "Score for MLPClassifier : \n",
      " 0.7776\n",
      "Score for SGDClassifier : \n",
      " 0.4638\n",
      "Score for GaussianNB : \n",
      " 0.9063\n",
      "Score for KNeighborsClassifier : \n",
      " 0.6703\n",
      "\n",
      " ----> mean = 0.75362 \n",
      "\n"
     ]
    }
   ],
   "source": [
    "mean = 0\n",
    "from libscores import get_metric\n",
    "metric_name, scoring_function = get_metric()\n",
    "print('Using scoring metric:', metric_name)\n",
    "\n",
    "target_names = ['Parasitized', 'Uninfected']\n",
    "for i in range(0, len(results)):\n",
    "    mean += round(scoring_function(y_test_pre, results[i]), 4)\n",
    "    print(\"Score for \"+ name_classifiers[i] + \" : \\n\", round(scoring_function(y_test_pre, results[i]),4))\n",
    "mean /= len(results)\n",
    "print('\\n ----> mean =', mean, '\\n')"
   ]
  },
  {
   "cell_type": "code",
   "execution_count": 46,
   "metadata": {},
   "outputs": [],
   "source": [
    "'''Find best hyper-parameters (of the best model) with RandomizedSearchCV or GridSearchCV'''\n",
    "from sklearn.model_selection import RandomizedSearchCV\n",
    "# Number of trees in random forest\n",
    "n_estimators = [int(x) for x in np.linspace(start = 200, stop = 2000, num = 10)]\n",
    "# Number of features to consider at every split\n",
    "max_features = ['auto', 'sqrt']\n",
    "# Maximum number of levels in tree\n",
    "max_depth = [int(x) for x in np.linspace(10, 110, num = 11)]\n",
    "max_depth.append(None)\n",
    "# Minimum number of samples required to split a node\n",
    "min_samples_split = [2, 5, 10]\n",
    "# Minimum number of samples required at each leaf node\n",
    "min_samples_leaf = [1, 2, 4]\n",
    "# Method of selecting samples for training each tree\n",
    "bootstrap = [True, False]\n",
    "# Create the random grid\n",
    "random_grid = {'n_estimators': n_estimators,\n",
    "               'max_features': max_features,\n",
    "               'max_depth': max_depth,\n",
    "               'min_samples_split': min_samples_split,\n",
    "               'min_samples_leaf': min_samples_leaf,\n",
    "               'bootstrap': bootstrap}\n",
    "\n",
    "\n",
    "rf_random = RandomizedSearchCV(estimator = classifiers[0],\n",
    "                               param_distributions = random_grid, \n",
    "                               n_iter = 100, \n",
    "                               cv = 3, \n",
    "                               verbose=2, \n",
    "                               random_state=42, \n",
    "                               n_jobs = -1) "
   ]
  },
  {
   "cell_type": "code",
   "execution_count": null,
   "metadata": {},
   "outputs": [],
   "source": [
    "# /!\\ ~15 MIN DE CHARGEMENT\n",
    "rf_random.fit(X_train_pre, y_train_pre)   "
   ]
  },
  {
   "cell_type": "code",
   "execution_count": 45,
   "metadata": {},
   "outputs": [
    {
     "data": {
      "text/plain": [
       "{'n_estimators': 2000,\n",
       " 'min_samples_split': 5,\n",
       " 'min_samples_leaf': 1,\n",
       " 'max_features': 'sqrt',\n",
       " 'max_depth': 10,\n",
       " 'bootstrap': True}"
      ]
     },
     "execution_count": 45,
     "metadata": {},
     "output_type": "execute_result"
    }
   ],
   "source": [
    "''' \n",
    "{'n_estimators': 2000,\n",
    " 'min_samples_split': 5,\n",
    " 'min_samples_leaf': 1,\n",
    " 'max_features': 'sqrt',\n",
    " 'max_depth': 10,\n",
    " 'bootstrap': True}\n",
    "'''\n",
    "rf_random.best_params_"
   ]
  },
  {
   "cell_type": "code",
   "execution_count": 52,
   "metadata": {},
   "outputs": [
    {
     "name": "stdout",
     "output_type": "stream",
     "text": [
      "PREDICT: dim(X)= [198, 19]\n",
      "ARRGH: number of features in X does not match training data!\n",
      "PREDICT: dim(y)= [198, 1]\n"
     ]
    }
   ],
   "source": [
    "classifiers[0] = RandomForestClassifier(n_estimators=2000, \n",
    "                                        min_samples_split=5, \n",
    "                                        min_samples_leaf=1, \n",
    "                                        max_features='sqrt', \n",
    "                                        max_depth=10, \n",
    "                                        bootstrap=True)\n",
    "classifiers[0].fit(X_train_pre, y_train_pre)\n",
    "M = model(classifiers[0])\n",
    "res = M.predict(X_test_pre)"
   ]
  },
  {
   "cell_type": "code",
   "execution_count": 54,
   "metadata": {},
   "outputs": [
    {
     "data": {
      "image/png": "[encoded data removed]",
      "text/plain": [
       "<Figure size 432x288 with 2 Axes>"
      ]
     },
     "metadata": {
      "needs_background": "light"
     },
     "output_type": "display_data"
    }
   ],
   "source": [
    "mat = confusion_matrix(y_test_pre, res)\n",
    "\n",
    "fig, ax = plt.subplots(nrows=1,ncols=1)#, figsize=(6, 5))\n",
    "\n",
    "sns.heatmap(mat, annot=True, fmt='g', ax=ax) #annot=True to annotate cells\n",
    "ax.set_xlabel('Predicted labels')\n",
    "ax.set_ylabel('True labels')\n",
    "ax.set_title('RandomForestClassifier w/ RandomizedSearchCV') \n",
    "ax.xaxis.set_ticklabels(['Parasitized', 'Uninfected'])\n",
    "ax.yaxis.set_ticklabels(['Parasitized', 'Uninfected'])\n",
    "\n",
    "plt.show()"
   ]
  },
  {
   "cell_type": "markdown",
   "metadata": {},
   "source": [
    "<div>\n",
    "Nous avons pu remarquer que le modèle des Random Forest possédait le meilleur score des 5 modèles testés.\n",
    "Le paramètre le plus important est n_estimator correspondant au nombre d'arbres de décision dans notre Random Forest.\n",
    "Plus ce nombre est important, plus la prédiction sera meilleure, jusqu'à un certain stade à cause du sur-apprentissage.\n",
    "max_depth et max_features correspondent respectivement à la profondeur maximum d'un arbre et le nombre de features\n",
    "à tester sur chaque arbre. En mettant ces deux paramètres à None, cela permet de tester chaque feature sur chaque arbre, permettant de meilleur résultats en contrepartie d'un temps de calcul plus long.\n",
    "</div>"
   ]
  },
  {
   "cell_type": "markdown",
   "metadata": {},
   "source": [
    "Then we can compute the AUC metric which is the one used for the submission."
   ]
  },
  {
   "cell_type": "markdown",
   "metadata": {},
   "source": [
    "<div style=\"background:#FFFFAA\">\n",
    "    <h2>Training a predictive model</h2>\n",
    "    <p>\n",
    "We provide an example of predictive model (for classification or regression) in the `sample_code_submission/` directory. It is a quite stupid model: it makes constant predictions. Replace it with your own model.\n",
    "    </div>"
   ]
  },
  {
   "cell_type": "code",
   "execution_count": 28,
   "metadata": {},
   "outputs": [],
   "source": [
    "from data_io import write\n",
    "from model import model\n",
    "\n",
    "??model"
   ]
  },
  {
   "cell_type": "markdown",
   "metadata": {},
   "source": [
    "<div style=\"background:#FFFFAA\">\n",
    "an instance of the model (run the constructor) and attempt to reload a previously saved version from `sample_code_submission/`:\n",
    "    \n",
    "</div>"
   ]
  },
  {
   "cell_type": "markdown",
   "metadata": {},
   "source": [
    "<div style=\"background:#FFFFAA\">\n",
    "<h1>Step 2: Building a predictive model</h1>\n",
    "</div>"
   ]
  },
  {
   "cell_type": "markdown",
   "metadata": {},
   "source": [
    "<div style=\"background:#FFFFAA\">\n",
    "    <h2>Loading data with DataManager</h2>\n",
    "    <p>\n",
    "We reload the data with the AutoML DataManager class because this is more convenient:\n",
    "   <br>     <span style=\"color:red\"> Keep this, it illustrates how data in AutoML formal are loaded by the ingestion program </span>\n",
    "</div>"
   ]
  },
  {
   "cell_type": "code",
   "execution_count": 29,
   "metadata": {
    "scrolled": true
   },
   "outputs": [
    {
     "name": "stdout",
     "output_type": "stream",
     "text": [
      "Info file found : /Users/patault/Documents/GitHub/Africa/starting_kit/sample_data/malaria_public.info\n",
      "DataManager : malaria\n",
      "info:\n",
      "\tusage = Malaria cell images dataset\n",
      "\tname = malaria\n",
      "\ttask = binary.classification\n",
      "\ttarget_type = Numerical\n",
      "\tfeat_type = Numerical\n",
      "\tmetric = roc_auc_score\n",
      "\ttime_budget = 1200\n",
      "\tfeat_num = 19\n",
      "\ttarget_num = 2\n",
      "\tlabel_num = 2\n",
      "\ttrain_num = 600\n",
      "\tvalid_num = 200\n",
      "\ttest_num = 200\n",
      "\thas_categorical = 0\n",
      "\thas_missing = 0\n",
      "\tis_sparse = 0\n",
      "\tformat = dense\n",
      "data:\n",
      "\tX_train = array(600, 19)\n",
      "\tY_train = array(600,)\n",
      "\tX_valid = array(200, 19)\n",
      "\tY_valid = array(200,)\n",
      "\tX_test = array(200, 19)\n",
      "\tY_test = array(200,)\n",
      "feat_type:\tarray(19,)\n",
      "feat_idx:\tarray(0,)\n",
      "\n"
     ]
    }
   ],
   "source": [
    "from data_manager import DataManager\n",
    "D = DataManager(data_name, data_dir, replace_missing=True)\n",
    "print(D)"
   ]
  },
  {
   "cell_type": "code",
   "execution_count": 30,
   "metadata": {},
   "outputs": [
    {
     "name": "stdout",
     "output_type": "stream",
     "text": [
      "Model reloaded from: sample_code_submission/malaria_model.pickle\n"
     ]
    }
   ],
   "source": [
    "#Trying a random forest model\n",
    "M = model(classifiers[0])   \n",
    "trained_model_name = model_dir + data_name\n",
    "\n",
    "M = M.load(trained_model_name)                  "
   ]
  },
  {
   "cell_type": "markdown",
   "metadata": {},
   "source": [
    "<div style=\"background:#FFFFAA\">\n",
    "    Train the model (unless you reloaded a trained model) and make predictions. \n",
    "</div>"
   ]
  },
  {
   "cell_type": "code",
   "execution_count": 31,
   "metadata": {
    "scrolled": true
   },
   "outputs": [
    {
     "name": "stdout",
     "output_type": "stream",
     "text": [
      "PREDICT: dim(X)= [600, 19]\n",
      "PREDICT: dim(y)= [600, 1]\n",
      "PREDICT: dim(X)= [200, 19]\n",
      "PREDICT: dim(y)= [200, 1]\n",
      "PREDICT: dim(X)= [200, 19]\n",
      "PREDICT: dim(y)= [200, 1]\n"
     ]
    }
   ],
   "source": [
    "if not(M.is_trained):\n",
    "    X_train = D.data['X_train']\n",
    "    Y_train = D.data['Y_train']\n",
    "    M.fit(X_train, Y_train)                     \n",
    "\n",
    "Y_hat_train = M.predict(D.data['X_train']) # Optional, not really needed to test on taining examples\n",
    "Y_hat_valid = M.predict(D.data['X_valid'])\n",
    "Y_hat_test = M.predict(D.data['X_test'])"
   ]
  },
  {
   "cell_type": "markdown",
   "metadata": {},
   "source": [
    "<div style=\"background:#FFFFAA\">\n",
    "    <b> Save the trained model </b> (will be ready to reload next time around) and save the prediction results. IMPORTANT: if you save the trained model, it will be bundled with your sample code submission. Therefore your model will NOT be retrained on the challenge platform. Remove the pickle from the submission if you want the model to be retrained on the platform.\n",
    "</div>"
   ]
  },
  {
   "cell_type": "code",
   "execution_count": 32,
   "metadata": {},
   "outputs": [
    {
     "name": "stdout",
     "output_type": "stream",
     "text": [
      "\u001b[31msample_result_submission/malaria_test.predict\u001b[m\u001b[m\r\n",
      "\u001b[31msample_result_submission/malaria_train.predict\u001b[m\u001b[m\r\n",
      "\u001b[31msample_result_submission/malaria_valid.predict\u001b[m\u001b[m\r\n"
     ]
    }
   ],
   "source": [
    "M.save(trained_model_name)                 \n",
    "result_name = result_dir + data_name\n",
    "from data_io import write\n",
    "write(result_name + '_train.predict', Y_hat_train)\n",
    "write(result_name + '_valid.predict', Y_hat_valid)\n",
    "write(result_name + '_test.predict', Y_hat_test)\n",
    "!ls $result_name*"
   ]
  },
  {
   "cell_type": "markdown",
   "metadata": {},
   "source": [
    "<div style=\"background:#FFFFAA\">\n",
    "    <h2>Scoring the results</h2>\n",
    "    <h3>Load the challenge metric</h3>\n",
    "    <p>\n",
    "<b>The metric chosen for your challenge</b> is identified in the \"metric.txt\" file found in the `scoring_function/` directory. The function \"get_metric\" searches first for a metric having that name in my_metric.py, then in libscores.py, then in sklearn.metric.\n",
    "    </div>"
   ]
  },
  {
   "cell_type": "markdown",
   "metadata": {},
   "source": [
    "We use the area under the curve as our metric to evaluate our model for the moment. We chose this metric because accuracy gives us only the percentage of correctly classified examples, whereas what we are interested in is to have the lowest possible rate of false negatives (infected cells classifies as being healthy). The ROC curve we will get will help us to find a good threshold for this classification, which will not necessarily the one maximising the accuracy as the false negatives are critical in our case (but the true negatives can always be rechecked by experts). The AUC will then give us the general performance of our model given the fact that we want to maximize true positives and true negatives."
   ]
  },
  {
   "cell_type": "code",
   "execution_count": 33,
   "metadata": {},
   "outputs": [
    {
     "name": "stdout",
     "output_type": "stream",
     "text": [
      "Using scoring metric: roc_auc_score\n",
      "Score for RandomForestClassifier : \n",
      " 0.9501\n",
      "Score for MLPClassifier : \n",
      " 0.7776\n",
      "Score for SGDClassifier : \n",
      " 0.4638\n",
      "Score for GaussianNB : \n",
      " 0.9063\n",
      "Score for KNeighborsClassifier : \n",
      " 0.6703\n",
      "\n",
      " ----> mean = 0.9344887999999999 \n",
      "\n"
     ]
    }
   ],
   "source": [
    "from libscores import get_metric\n",
    "metric_name, scoring_function = get_metric()\n",
    "print('Using scoring metric:', metric_name)\n",
    "\n",
    "target_names = ['Parasitized', 'Uninfected']\n",
    "for i in range(0, len(results)):\n",
    "    mean += round(scoring_function(y_test_pre, results[i]), 4)\n",
    "    print(\"Score for \"+ name_classifiers[i] + \" : \\n\", round(scoring_function(y_test_pre, results[i]),4))\n",
    "mean /= len(results)\n",
    "print('\\n ----> mean =', mean, '\\n')"
   ]
  },
  {
   "cell_type": "markdown",
   "metadata": {},
   "source": [
    "<div style=\"background:#FFFFAA\">\n",
    "    <h3> Training performance </h3>\n",
    "    <p>\n",
    "The participants normally posess target values (labels) only for training examples (except for the sample data). We compute with the `example` metric the training score, which should be zero for perfect predictions.\n",
    "        </div>"
   ]
  },
  {
   "cell_type": "code",
   "execution_count": 34,
   "metadata": {},
   "outputs": [
    {
     "ename": "NameError",
     "evalue": "name 'Y_train' is not defined",
     "output_type": "error",
     "traceback": [
      "\u001b[0;31m---------------------------------------------------------------------------\u001b[0m",
      "\u001b[0;31mNameError\u001b[0m                                 Traceback (most recent call last)",
      "\u001b[0;32m<ipython-input-34-eaf1b6acf9af>\u001b[0m in \u001b[0;36m<module>\u001b[0;34m\u001b[0m\n\u001b[0;32m----> 1\u001b[0;31m \u001b[0mprint\u001b[0m\u001b[0;34m(\u001b[0m\u001b[0;34m'Training score for the'\u001b[0m\u001b[0;34m,\u001b[0m \u001b[0mmetric_name\u001b[0m\u001b[0;34m,\u001b[0m \u001b[0;34m'metric = %5.4f'\u001b[0m \u001b[0;34m%\u001b[0m \u001b[0mscoring_function\u001b[0m\u001b[0;34m(\u001b[0m\u001b[0mY_train\u001b[0m\u001b[0;34m,\u001b[0m \u001b[0mY_hat_train\u001b[0m\u001b[0;34m)\u001b[0m\u001b[0;34m)\u001b[0m\u001b[0;34m\u001b[0m\u001b[0;34m\u001b[0m\u001b[0m\n\u001b[0m\u001b[1;32m      2\u001b[0m \u001b[0mprint\u001b[0m\u001b[0;34m(\u001b[0m\u001b[0;34m'Ideal score for the'\u001b[0m\u001b[0;34m,\u001b[0m \u001b[0mmetric_name\u001b[0m\u001b[0;34m,\u001b[0m \u001b[0;34m'metric = %5.4f'\u001b[0m \u001b[0;34m%\u001b[0m \u001b[0mscoring_function\u001b[0m\u001b[0;34m(\u001b[0m\u001b[0mY_train\u001b[0m\u001b[0;34m,\u001b[0m \u001b[0mY_train\u001b[0m\u001b[0;34m)\u001b[0m\u001b[0;34m)\u001b[0m\u001b[0;34m\u001b[0m\u001b[0;34m\u001b[0m\u001b[0m\n",
      "\u001b[0;31mNameError\u001b[0m: name 'Y_train' is not defined"
     ]
    }
   ],
   "source": [
    "print('Training score for the', metric_name, 'metric = %5.4f' % scoring_function(Y_train, Y_hat_train))\n",
    "print('Ideal score for the', metric_name, 'metric = %5.4f' % scoring_function(Y_train, Y_train))"
   ]
  },
  {
   "cell_type": "markdown",
   "metadata": {},
   "source": [
    "You can add here other scores and result visualization."
   ]
  },
  {
   "cell_type": "code",
   "execution_count": null,
   "metadata": {},
   "outputs": [],
   "source": [
    "from sklearn.metrics import confusion_matrix\n",
    "confusion_matrix(Y_train, Y_hat_train)"
   ]
  },
  {
   "cell_type": "code",
   "execution_count": null,
   "metadata": {},
   "outputs": [],
   "source": [
    "from sklearn.metrics import roc_curve, auc\n",
    "\n",
    "size = round(len(D.data['X_train'])/10)\n",
    "\n",
    "probas_ = M.classifier.fit(D.data['X_train'][:size], D.data['Y_train'][:size].ravel()).predict_proba(D.data['X_train'][size:])\n",
    "# Compute ROC curve and area the curve\n",
    "fpr, tpr, thresholds = roc_curve(D.data['Y_train'][size:].ravel(), probas_[:, 1])\n",
    "roc_auc = auc(fpr, tpr)"
   ]
  },
  {
   "cell_type": "code",
   "execution_count": null,
   "metadata": {},
   "outputs": [],
   "source": [
    "import matplotlib.pyplot as plt\n",
    "\n",
    "plt.figure(figsize=(8, 7))\n",
    "\n",
    "plt.plot(fpr, tpr, color='darkorange', label='ROC curve (area = %0.2f)' % roc_auc)\n",
    "plt.plot([0, 1], [0, 1], color='navy', linestyle='--')\n",
    "plt.xlim([0.0, 1.0])\n",
    "plt.ylim([0.0, 1.05])\n",
    "plt.xlabel('False Positive Rate')\n",
    "plt.ylabel('True Positive Rate')\n",
    "plt.title('Receiver operating characteristic example')\n",
    "plt.legend(loc=\"lower right\")\n",
    "plt.show()"
   ]
  },
  {
   "cell_type": "markdown",
   "metadata": {},
   "source": [
    "This plot of the ROC curve is a good indicator for us to find a good threshold for our model, here we will prefer a very low rate of false negatives (1 - true positives rate). If we really want something near to 100% true positives, we might consider a model giving us 40% of false positive rate, we might consider that threshold as a medical diagnosis is a critical application."
   ]
  },
  {
   "cell_type": "markdown",
   "metadata": {},
   "source": [
    "<div style=\"background:#FFFFAA\">\n",
    "    <h3>Cross-validation performance</h3>\n",
    "    <p>\n",
    "The participants do not have access to the labels Y_valid and Y_test to self-assess their validation and test performances. But training performance is not a good prediction of validation or test performance. Using cross-validation, the training data is split into multiple training/test folds, which allows participants to self-assess their model during development. The average CV result and 95% confidence interval is displayed.\n",
    "   </div>"
   ]
  },
  {
   "cell_type": "code",
   "execution_count": null,
   "metadata": {},
   "outputs": [],
   "source": [
    "from sklearn.metrics import make_scorer\n",
    "from sklearn.model_selection import cross_val_score\n",
    "\n",
    "scores = []\n",
    "print('CV score (95 perc. CI):\\n-----------------------')    \n",
    "\n",
    "for i in range(5) :\n",
    "    M = model(classifiers[i])\n",
    "    score = cross_val_score(M, X_train, Y_train, cv=5, scoring=make_scorer(scoring_function))\n",
    "    scores.append(score)\n",
    "    print(name_classifiers[i], \" : %0.2f (+/- %0.2f)\" % (scores[i].mean(), scores[i].std() * 2))"
   ]
  },
  {
   "cell_type": "code",
   "execution_count": null,
   "metadata": {},
   "outputs": [],
   "source": [
    "data2 = data.drop(['nb_black_pixels'], axis=1)\n",
    "X_train2 = data2.drop(['target'], axis= 1)\n",
    "X_train2\n",
    "M = model(classifiers[0])\n",
    "scores = cross_val_score(M, X_train2, Y_train, cv=5, scoring=make_scorer(scoring_function))\n",
    "print('\\nCV score without the black_pixels attribute (95 perc. CI): %0.2f (+/- %0.2f)' % (scores.mean(), scores.std() * 2))\n",
    "scores"
   ]
  },
  {
   "cell_type": "markdown",
   "metadata": {},
   "source": [
    "The scores of our model with and without the nb_black_pixels attribute is the same. Therefore we can conclude that there is no data leakage."
   ]
  },
  {
   "cell_type": "markdown",
   "metadata": {},
   "source": [
    "____"
   ]
  },
  {
   "cell_type": "markdown",
   "metadata": {},
   "source": [
    "### Feature importance"
   ]
  },
  {
   "cell_type": "markdown",
   "metadata": {},
   "source": [
    "The advantage of using a Random forest models is that we can evaluate which feature in taken into account  when predicting the target classes, here you can have an idea of which feature was the most relevant for solving our task"
   ]
  },
  {
   "cell_type": "code",
   "execution_count": null,
   "metadata": {},
   "outputs": [],
   "source": [
    "import pandas as pd\n",
    "\n",
    "feature_importance = pd.DataFrame(M.classifier.feature_importances_,index= list(data)[:19], columns=['feature importance']).sort_values('feature importance', ascending = False)\n",
    "feature_importance.plot.bar(figsize=(9,7))\n",
    "plt.show()"
   ]
  },
  {
   "cell_type": "markdown",
   "metadata": {},
   "source": [
    "\n",
    "\n",
    "<div style=\"background:#FFFFAA\">\n",
    "<h1> Step 3: Making a submission </h1> \n",
    "\n",
    "<h2> Unit testing </h2> \n",
    "\n",
    "It is <b><span style=\"color:red\">important that you test your submission files before submitting them</span></b>. All you have to do to make a submission is modify the file <code>model.py</code> in the <code>sample_code_submission/</code> directory, then run this test to make sure everything works fine. This is the actual program that will be run on the server to test your submission. \n",
    "<br>\n",
    "Keep the sample code simple.\n",
    "</div>"
   ]
  },
  {
   "cell_type": "code",
   "execution_count": null,
   "metadata": {
    "scrolled": true
   },
   "outputs": [],
   "source": [
    "!source activate python3; python $problem_dir/ingestion.py $data_dir $result_dir $problem_dir $model_dir"
   ]
  },
  {
   "cell_type": "markdown",
   "metadata": {},
   "source": [
    "<div style=\"background:#FFFFAA\">\n",
    "Also test the scoring program:\n",
    "    </div>"
   ]
  },
  {
   "cell_type": "code",
   "execution_count": null,
   "metadata": {},
   "outputs": [],
   "source": [
    "scoring_output_dir = 'scoring_output'\n",
    "!python $score_dir/score.py $data_dir $result_dir $scoring_output_dir"
   ]
  },
  {
   "cell_type": "markdown",
   "metadata": {},
   "source": [
    "## Parameter optimization to try to improve the area under the roc curve."
   ]
  },
  {
   "cell_type": "code",
   "execution_count": null,
   "metadata": {},
   "outputs": [],
   "source": [
    "from sklearn.model_selection import ParameterGrid\n",
    "from sklearn.ensemble import RandomForestClassifier\n",
    "\n",
    "# import os\n",
    "# import sys\n",
    "# sys.stdout = open(os.devnull, 'w')\n",
    "\n",
    "# Define the hyperparameters\n",
    "hyperparameters = {\n",
    "    'max_depth': [5, 10, 20,40], \n",
    "    'n_estimators' : [2,10, 20, 100] }\n",
    "\n",
    "# Compute all combinations\n",
    "parameter_grid = list(ParameterGrid(hyperparameters))\n",
    "\n",
    "# Just a table to save the results\n",
    "#resultsDF = pd.DataFrame(columns=['factors', 'regularization', 'alpha', 'auc'])\n",
    "resultsDF = pd.DataFrame()\n",
    "\n",
    "for parameter_combination in parameter_grid:    \n",
    "    clf = RandomForestClassifier (random_state = 42, n_estimators =parameter_combination['n_estimators'],max_depth =parameter_combination['max_depth'])\n",
    "    M = model (classifier=clf)\n",
    "    \n",
    "    \n",
    "    scores = cross_val_score(M, X_train, Y_train, cv=5, scoring=make_scorer(scoring_function))\n",
    "    \n",
    "    \n",
    "    parameter_combination['auc'] = scores.mean()\n",
    "    \n",
    "    resultsDF = resultsDF.append(parameter_combination, ignore_index=True)\n",
    "    \n",
    "res = resultsDF.sort_values(by=['auc'], ascending=False)\n"
   ]
  },
  {
   "cell_type": "markdown",
   "metadata": {
    "collapsed": true
   },
   "source": [
    "<div style=\"background:#FFFFAA\">\n",
    "    <h1> Preparing the submission </h1>\n",
    "\n",
    "Zip the contents of `sample_code_submission/` (without the directory), or download the challenge public_data and run the command in the previous cell, after replacing sample_data by public_data.\n",
    "Then zip the contents of `sample_result_submission/` (without the directory).\n",
    "<b><span style=\"color:red\">Do NOT zip the data with your submissions</span></b>."
   ]
  },
  {
   "cell_type": "code",
   "execution_count": null,
   "metadata": {},
   "outputs": [],
   "source": [
    "import datetime \n",
    "from data_io import zipdir\n",
    "\n",
    "the_date = datetime.datetime.now().strftime(\"%y-%m-%d-%H-%M\")\n",
    "sample_code_submission = '../sample_code_submission_' + the_date + '.zip'\n",
    "sample_result_submission = '../sample_result_submission_' + the_date + '.zip'\n",
    "zipdir(sample_code_submission, model_dir)\n",
    "zipdir(sample_result_submission, result_dir)\n",
    "print(\"Submit one of these files:\\n\" + sample_code_submission + \"\\n\" + sample_result_submission)"
   ]
  },
  {
   "cell_type": "code",
   "execution_count": null,
   "metadata": {},
   "outputs": [],
   "source": []
  }
 ],
 "metadata": {
  "kernelspec": {
   "display_name": "Python 3",
   "language": "python",
   "name": "python3"
  },
  "language_info": {
   "codemirror_mode": {
    "name": "ipython",
    "version": 3
   },
   "file_extension": ".py",
   "mimetype": "text/x-python",
   "name": "python",
   "nbconvert_exporter": "python",
   "pygments_lexer": "ipython3",
   "version": "3.7.4"
  }
 },
 "nbformat": 4,
 "nbformat_minor": 1
}

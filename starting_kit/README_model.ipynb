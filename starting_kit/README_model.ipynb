{
 "cells": [
  {
   "cell_type": "markdown",
   "metadata": {},
   "source": [
    "\n",
    "# MediChal Challenge - Detecting Malaria with cell Images\n",
    "\n",
    "____"
   ]
  },
  {
   "cell_type": "markdown",
   "metadata": {},
   "source": [
    "<img src=\"./logo.jpg\" width=\"200\" height=\"200\" align=\"left\"> \n",
    "\n",
    "## Team MEDICHAL :\n",
    "- Théo Deschamps-Berger\n",
    "- Simon Monteiro\n",
    "- Xienneng Xu\n",
    "- Nicolas Devatine\n",
    "- Clément Veyssière\n",
    "- Corentin Leloup\n",
    "- Ramine Hamidi\n"
   ]
  },
  {
   "cell_type": "markdown",
   "metadata": {},
   "source": [
    "<div style=\"background:#FFFFAA\">\n",
    "    <h2>Introduction </h2>\n",
    "    <p>\n",
    "        <br>       \n",
    " \n",
    "     \n",
    "The problem we try to solve here is the diagnosis of malaria using images of cells that are whether infected or not. It is a binary classification problem from the data set found here at <a href=https://www.kaggle.com/iarunava/cell-images-for-detecting-malaria>\"Cell images for detecting malaria\"</a>. The data set contains around 27 thousand images, that are balanced between the 2 classes. The way we proceed here is to extract features from the images instead of using images directly as inputs to the model we use for predictions.\n",
    "\n",
    " \n",
    "</div>"
   ]
  },
  {
   "cell_type": "markdown",
   "metadata": {},
   "source": [
    "<p align=\"center\">\n",
    "  <img src=\"example_cells.png\">\n",
    "</p>\n",
    "<center>Example of parasitized and uninfected cells</center>"
   ]
  },
  {
   "cell_type": "code",
   "execution_count": 1,
   "metadata": {},
   "outputs": [],
   "source": [
    "import sys\n",
    "model_dir = 'sample_code_submission/'                        # Change the model to a better one once you have one!\n",
    "result_dir = 'sample_result_submission/' \n",
    "problem_dir = 'ingestion_program/'  \n",
    "score_dir = 'scoring_program/'\n",
    "from sys import path; path.append(model_dir); path.append(problem_dir); path.append(score_dir); \n",
    "%matplotlib inline\n",
    "# Uncomment the next lines to auto-reload libraries (this causes some problem with pickles in Python 3)\n",
    "%load_ext autoreload\n",
    "%autoreload 2\n",
    "import seaborn as sns; sns.set()\n",
    "import warnings\n",
    "warnings.simplefilter(action='ignore', category=FutureWarning)"
   ]
  },
  {
   "cell_type": "markdown",
   "metadata": {},
   "source": [
    "<div style=\"background:#FFFFAA\">\n",
    "    <h1> Step 1: Exploratory data analysis </h1>\n",
    "<p>\n",
    "We provide sample_data with the starting kit, but to prepare your submission, you must fetch the public_data from the challenge website and point to it.\n",
    "    <br>\n",
    "    <span style=\"color:red\"> Just change the data name in the block below. In the rest of the section, replace the sample plots by anything you want. </span>\n",
    "</div>"
   ]
  },
  {
   "cell_type": "markdown",
   "metadata": {},
   "source": [
    "### Quality of the data\n",
    "\n",
    "Our data is composed of images that we preprocessed to extract features. Therefore we do not have any missing data in any feature because we created the features ourselves. There may be one artefact which is the fact that the background is black, and we may wonder if infected cells might be smaller (or the contrary), which would provide us darker images and a higher (or lower) average of gray "
   ]
  },
  {
   "cell_type": "code",
   "execution_count": 2,
   "metadata": {},
   "outputs": [
    {
     "name": "stdout",
     "output_type": "stream",
     "text": [
      "\u001b[31mmalaria_feat.name\u001b[m\u001b[m      \u001b[31mmalaria_test.data\u001b[m\u001b[m      \u001b[31mmalaria_valid.data\u001b[m\u001b[m\r\n",
      "\u001b[31mmalaria_label.name\u001b[m\u001b[m     \u001b[31mmalaria_test.solution\u001b[m\u001b[m  \u001b[31mmalaria_valid.solution\u001b[m\u001b[m\r\n",
      "\u001b[31mmalaria_private.info\u001b[m\u001b[m   \u001b[31mmalaria_train.data\u001b[m\u001b[m\r\n",
      "\u001b[31mmalaria_public.info\u001b[m\u001b[m    \u001b[31mmalaria_train.solution\u001b[m\u001b[m\r\n"
     ]
    }
   ],
   "source": [
    "data_dir = 'sample_data'              # Change this to the directory where you put the input data\n",
    "data_name = 'malaria'\n",
    "\n",
    "!ls $data_dir* # Linux command\n",
    "# !dir $data_dir # Windows command"
   ]
  },
  {
   "cell_type": "markdown",
   "metadata": {},
   "source": [
    "For convenience, we load the data as a \"pandas\" data frame, so we can use \"pandas\" and \"seaborn\" built in functions to explore the data."
   ]
  },
  {
   "cell_type": "code",
   "execution_count": 3,
   "metadata": {},
   "outputs": [
    {
     "name": "stdout",
     "output_type": "stream",
     "text": [
      "Reading sample_data/malaria_train from AutoML format\n",
      "Number of examples = 600\n",
      "Number of features = 19\n",
      "         Class\n",
      "0   uninfected\n",
      "1  parasitized\n",
      "Number of classes = 2\n"
     ]
    },
    {
     "data": {
      "image/png": "[encoded data removed]",
      "text/plain": [
       "<Figure size 432x288 with 1 Axes>"
      ]
     },
     "metadata": {
      "needs_background": "light"
     },
     "output_type": "display_data"
    }
   ],
   "source": [
    "from data_io import read_as_df\n",
    "import matplotlib.pyplot as plt\n",
    "import numpy as np\n",
    "import pandas as pd\n",
    "\n",
    "data = read_as_df(data_dir  + '/' + data_name)                # The data are loaded as a Pandas Data Frame\n",
    "\n",
    "nb_p=np.sum(data.target == 'parasitized')\n",
    "nb_u=np.sum(data.target == 'uninfected')\n",
    "\n",
    "p = pd.DataFrame({'labels':['parasitized', 'uninfected'],'number of cells': [nb_p, nb_u]})\n",
    "ax = p.plot.bar(x='labels', y='number of cells', rot=0),\n",
    "plt.text(-0.12, nb_p/2, nb_p , size=20, color='r'),\n",
    "plt.text(0.9, nb_u/2, nb_u , size=20, color='g'),plt.title('Distribution of our cells images')\n",
    "plt.show()"
   ]
  },
  {
   "cell_type": "code",
   "execution_count": null,
   "metadata": {
    "scrolled": true
   },
   "outputs": [],
   "source": [
    "data.head()"
   ]
  },
  {
   "cell_type": "markdown",
   "metadata": {},
   "source": [
    "We have decided to reduce the dataset of images to a simpler dataset with only 19 features.\n",
    "\n",
    "`nb_black_pixels` counts pixels whose value is dark for gray_scale images, those around the cell in the image.\n",
    "\n",
    "`var_color` feature is simply the empirical variance of the values of the pixels for colored images.\n",
    "\n",
    "`mean_color` feature is simply the mean of the values of the pixels for colored images.\n",
    "\n",
    "`max_color` is the maximum value for colored images.\n",
    "\n",
    "`min_color` is the maximum value for colored images.\n",
    "\n",
    "`var_gray`, `mean_gray`, `max_gray` and `min_gray` are the same but for gray-scale images.\n",
    "\n",
    "`nb_pixel_i_j` is the number of pixels having their value (intensity : 0 = black | 1 = white) between i and j for gray-scale images."
   ]
  },
  {
   "cell_type": "code",
   "execution_count": null,
   "metadata": {
    "scrolled": false
   },
   "outputs": [],
   "source": [
    "data.describe() "
   ]
  },
  {
   "cell_type": "markdown",
   "metadata": {},
   "source": [
    "Histogram of our features:"
   ]
  },
  {
   "cell_type": "code",
   "execution_count": null,
   "metadata": {},
   "outputs": [],
   "source": [
    "import matplotlib.pyplot as plt\n",
    "\n",
    "plt.figure(figsize=(20,16))\n",
    "\n",
    "for t in range(19):\n",
    "    plt.subplot(4,5,t+1)\n",
    "    plt.hist(data[data.columns[t]])\n",
    "    plt.title(data.columns[t])\n",
    "    t+=1"
   ]
  },
  {
   "cell_type": "markdown",
   "metadata": {},
   "source": [
    "Let's try to indentify patterns with a pairplot, which will maybe give us structures for each class depending on 2 features."
   ]
  },
  {
   "cell_type": "code",
   "execution_count": null,
   "metadata": {},
   "outputs": [],
   "source": [
    "sns.pairplot(data[['target','nb_black_pixels','var_color','mean_color','min_color','max_color','var_gray','mean_gray','min_gray','max_gray']], hue=\"target\")"
   ]
  },
  {
   "cell_type": "markdown",
   "metadata": {},
   "source": [
    "Correlation of our features with the target: 'parasitized'"
   ]
  },
  {
   "cell_type": "code",
   "execution_count": null,
   "metadata": {},
   "outputs": [],
   "source": [
    "datatarget = pd.get_dummies(data['target'])['parasitized'].to_frame()\n",
    "new_df = pd.merge(data, datatarget, right_index=True, left_index=True)\n",
    "df_new = new_df.select_dtypes(include=np.number)\n",
    "\n",
    "plt.figure(figsize = (10, 8))\n",
    "ax = sns.heatmap(df_new.corr(),cmap=\"viridis\", xticklabels=True, yticklabels=True)\n",
    "\n",
    "d = pd.get_dummies(data['target'])['parasitized']\n",
    "\n",
    "n_df = pd.merge(d.to_frame(), data, right_index=True, left_index=True)\n",
    "df_n = n_df.select_dtypes(include=np.number).abs()\n",
    "\n",
    "\n",
    "plt.figure(figsize = (2, 8))\n",
    "ax = sns.heatmap(df_n.corr().abs().sort_values(['parasitized'], ascending=[0])[\"parasitized\"].to_frame(), cmap=\"viridis\", xticklabels=True, yticklabels=True)"
   ]
  },
  {
   "cell_type": "code",
   "execution_count": null,
   "metadata": {},
   "outputs": [],
   "source": [
    "boxplot = data.boxplot(column=['nb_black_pixels'], by='target', )"
   ]
  },
  {
   "cell_type": "markdown",
   "metadata": {},
   "source": [
    "There seem to have no correlation between the number of black pixels and the target as well, then there is no dataleakage."
   ]
  },
  {
   "cell_type": "markdown",
   "metadata": {},
   "source": [
    "From the correlation matrix, the feature that has the highest correlation with the target is \"min_gray\"."
   ]
  },
  {
   "cell_type": "code",
   "execution_count": null,
   "metadata": {},
   "outputs": [],
   "source": [
    "boxplot = data.boxplot(column=['min_gray'], by='target', )"
   ]
  },
  {
   "cell_type": "markdown",
   "metadata": {},
   "source": [
    "## Model and results analysis\n",
    "\n",
    "Here we run a sandbox test to introduce some metrics and ways to visualize results. We split the train set into train and test in order to perform these analysis, and we compute the confusion matrix for RandomForestClassifier with arbitrary hyper-parameters."
   ]
  },
  {
   "cell_type": "code",
   "execution_count": 4,
   "metadata": {},
   "outputs": [
    {
     "name": "stdout",
     "output_type": "stream",
     "text": [
      "Info file found : /Users/patault/Documents/GitHub/Africa/starting_kit/sample_data/malaria_public.info\n",
      "FIT: dim(X)= [402, 19]\n",
      "FIT: dim(y)= [402, 1]\n",
      "PREDICT: dim(X)= [198, 19]\n",
      "PREDICT: dim(y)= [198, 1]\n",
      "FIT: dim(X)= [402, 19]\n",
      "FIT: dim(y)= [402, 1]\n",
      "PREDICT: dim(X)= [198, 19]\n",
      "PREDICT: dim(y)= [198, 1]\n",
      "FIT: dim(X)= [402, 19]\n",
      "FIT: dim(y)= [402, 1]\n",
      "PREDICT: dim(X)= [198, 19]\n",
      "PREDICT: dim(y)= [198, 1]\n",
      "FIT: dim(X)= [402, 19]\n",
      "FIT: dim(y)= [402, 1]\n",
      "PREDICT: dim(X)= [198, 19]\n",
      "PREDICT: dim(y)= [198, 1]\n",
      "FIT: dim(X)= [402, 19]\n",
      "FIT: dim(y)= [402, 1]\n",
      "PREDICT: dim(X)= [198, 19]\n",
      "PREDICT: dim(y)= [198, 1]\n"
     ]
    }
   ],
   "source": [
    "from sklearn.model_selection import train_test_split\n",
    "from data_manager import DataManager\n",
    "from model import model\n",
    "from sklearn.metrics import confusion_matrix\n",
    "from sklearn.ensemble import RandomForestClassifier\n",
    "from sklearn.neural_network import MLPClassifier\n",
    "from sklearn.neighbors import KNeighborsClassifier\n",
    "from sklearn.naive_bayes import GaussianNB\n",
    "from sklearn.linear_model import SGDClassifier\n",
    "\n",
    "D = DataManager(data_name, data_dir, replace_missing=True)\n",
    "X_train_pre, X_test_pre, y_train_pre, y_test_pre = train_test_split(D.data['X_train'], D.data['Y_train'], test_size=0.33, random_state=42)\n",
    "\n",
    "# Load model\n",
    "# tableau des 5 modèles choisis\n",
    "classifiers = [\n",
    "    RandomForestClassifier(random_state=42, n_estimators=200, max_depth=None, max_features=None, min_samples_split=2),\n",
    "    MLPClassifier(solver='lbfgs'),\n",
    "    SGDClassifier(),\n",
    "    GaussianNB(),\n",
    "    KNeighborsClassifier()\n",
    "]\n",
    "\n",
    "# tableau des noms des classifieurs\n",
    "name_classifiers = [\n",
    "    'RandomForestClassifier',\n",
    "    'MLPClassifier',\n",
    "    'SGDClassifier',\n",
    "    'GaussianNB',\n",
    "    'KNeighborsClassifier'\n",
    "]\n",
    "\n",
    "# tableau des résultats pour chaque model\n",
    "results = []\n",
    "for i in classifiers:\n",
    "    M = model(i)\n",
    "    if not M.is_trained:\n",
    "        M.fit(X_train_pre, y_train_pre)\n",
    "    results.append(M.predict(X_test_pre))\n",
    "\n",
    "# tableau des matrices de confusion sur les résultats des 5 modèles\n",
    "matrices = []\n",
    "for i in results:\n",
    "    matrices.append(confusion_matrix(y_test_pre, i))"
   ]
  },
  {
   "cell_type": "markdown",
   "metadata": {},
   "source": [
    "This is the plot of the confusion matrix from the predictions performed."
   ]
  },
  {
   "cell_type": "code",
   "execution_count": 5,
   "metadata": {},
   "outputs": [
    {
     "data": {
      "image/png": "[encoded data removed]",
      "text/plain": [
       "<Figure size 432x2160 with 10 Axes>"
      ]
     },
     "metadata": {
      "needs_background": "light"
     },
     "output_type": "display_data"
    }
   ],
   "source": [
    "fig, ax = plt.subplots(nrows=5,ncols=1, figsize=(6, 30))\n",
    "for i in range(5):\n",
    "    sns.heatmap(matrices[i], annot=True, fmt='g', ax=ax[i]) #annot=True to annotate cells\n",
    "    # labels, title and ticks\n",
    "    ax[i].set_xlabel('Predicted labels')\n",
    "    ax[i].set_ylabel('True labels')\n",
    "    ax[i].set_title(name_classifiers[i]) \n",
    "    ax[i].xaxis.set_ticklabels(['Parasitized', 'Uninfected'])\n",
    "    ax[i].yaxis.set_ticklabels(['Parasitized', 'Uninfected'])\n",
    "\n",
    "plt.show()"
   ]
  },
  {
   "cell_type": "code",
   "execution_count": 6,
   "metadata": {},
   "outputs": [
    {
     "name": "stdout",
     "output_type": "stream",
     "text": [
      "Using scoring metric: roc_auc_score\n",
      "Score for RandomForestClassifier : \n",
      " 0.9501\n",
      "Score for MLPClassifier : \n",
      " 0.7494\n",
      "Score for SGDClassifier : \n",
      " 0.5358\n",
      "Score for GaussianNB : \n",
      " 0.9063\n",
      "Score for KNeighborsClassifier : \n",
      " 0.6703\n",
      "\n",
      " ----> mean = 0.7623800000000001 \n",
      "\n"
     ]
    }
   ],
   "source": [
    "mean = 0\n",
    "from libscores import get_metric\n",
    "metric_name, scoring_function = get_metric()\n",
    "print('Using scoring metric:', metric_name)\n",
    "\n",
    "target_names = ['Parasitized', 'Uninfected']\n",
    "for i in range(0, len(results)):\n",
    "    mean += round(scoring_function(y_test_pre, results[i]), 4)\n",
    "    print(\"Score for \"+ name_classifiers[i] + \" : \\n\", round(scoring_function(y_test_pre, results[i]),4))\n",
    "mean /= len(results)\n",
    "print('\\n ----> mean =', mean, '\\n')"
   ]
  },
  {
   "cell_type": "markdown",
   "metadata": {},
   "source": [
    "<div>\n",
    "Nous avons pu remarquer que le modèle des Random Forest possédait le meilleur score des 5 modèles testés.\n",
    "Le paramètre le plus important est n_estimator correspondant au nombre d'arbres de décision dans notre Random Forest.\n",
    "Plus ce nombre est important, plus la prédiction sera meilleure, jusqu'à un certain stade à cause du sur-apprentissage.\n",
    "max_depth et max_features correspondent respectivement à la profondeur maximum d'un arbre et le nombre de features\n",
    "à tester sur chaque arbre. En mettant ces deux paramètres à None, cela permet de tester chaque feature sur chaque arbre, permettant de meilleur résultats en contrepartie d'un temps de calcul plus long.\n",
    "</div>"
   ]
  },
  {
   "cell_type": "code",
   "execution_count": 25,
   "metadata": {},
   "outputs": [],
   "source": [
    "'''Find best hyper-parameters (of the best model) with RandomizedSearchCV or GridSearchCV'''\n",
    "\n",
    "\n",
    "from sklearn.model_selection import RandomizedSearchCV\n",
    "\n",
    "# Number of trees in random forest\n",
    "n_estimators = [int(x) for x in np.linspace(start = 200, stop = 2000, num = 10)]\n",
    "\n",
    "# Number of features to consider at every split\n",
    "max_features = ['auto', 'sqrt']\n",
    "\n",
    "# Maximum number of levels in tree\n",
    "max_depth = [int(x) for x in np.linspace(10, 110, num = 11)]\n",
    "max_depth.append(None)\n",
    "\n",
    "# Minimum number of samples required to split a node\n",
    "min_samples_split = [2, 5, 10]\n",
    "\n",
    "# Minimum number of samples required at each leaf node\n",
    "min_samples_leaf = [1, 2, 4]\n",
    "\n",
    "# Method of selecting samples for training each tree\n",
    "bootstrap = [True, False]\n",
    "\n",
    "# Create the random grid\n",
    "random_grid = {'n_estimators': n_estimators,\n",
    "               'max_features': max_features,\n",
    "               'max_depth': max_depth,\n",
    "               'min_samples_split': min_samples_split,\n",
    "               'min_samples_leaf': min_samples_leaf,\n",
    "               'bootstrap': bootstrap}\n",
    "\n",
    "\n",
    "rf_random = RandomizedSearchCV(estimator = classifiers[0],\n",
    "                               param_distributions = random_grid, \n",
    "                               n_iter = 100, \n",
    "                               cv = 3, \n",
    "                               verbose=2, \n",
    "                               random_state=42, \n",
    "                               n_jobs = -1) "
   ]
  },
  {
   "cell_type": "code",
   "execution_count": 27,
   "metadata": {
    "scrolled": true
   },
   "outputs": [
    {
     "name": "stdout",
     "output_type": "stream",
     "text": [
      "Fitting 3 folds for each of 100 candidates, totalling 300 fits\n"
     ]
    },
    {
     "name": "stderr",
     "output_type": "stream",
     "text": [
      "[Parallel(n_jobs=-1)]: Using backend LokyBackend with 4 concurrent workers.\n",
      "[Parallel(n_jobs=-1)]: Done  33 tasks      | elapsed:   42.3s\n",
      "[Parallel(n_jobs=-1)]: Done 154 tasks      | elapsed:  2.8min\n",
      "[Parallel(n_jobs=-1)]: Done 300 out of 300 | elapsed:  4.8min finished\n"
     ]
    },
    {
     "data": {
      "text/plain": [
       "RandomizedSearchCV(cv=3, error_score='raise-deprecating',\n",
       "                   estimator=RandomForestClassifier(bootstrap=True,\n",
       "                                                    class_weight=None,\n",
       "                                                    criterion='gini',\n",
       "                                                    max_depth=10,\n",
       "                                                    max_features='sqrt',\n",
       "                                                    max_leaf_nodes=None,\n",
       "                                                    min_impurity_decrease=0.0,\n",
       "                                                    min_impurity_split=None,\n",
       "                                                    min_samples_leaf=1,\n",
       "                                                    min_samples_split=5,\n",
       "                                                    min_weight_fraction_leaf=0.0,\n",
       "                                                    n_estimators=2000,\n",
       "                                                    n_jobs=None,\n",
       "                                                    oob_score=...\n",
       "                   param_distributions={'bootstrap': [True, False],\n",
       "                                        'max_depth': [10, 20, 30, 40, 50, 60,\n",
       "                                                      70, 80, 90, 100, 110,\n",
       "                                                      None],\n",
       "                                        'max_features': ['auto', 'sqrt'],\n",
       "                                        'min_samples_leaf': [1, 2, 4],\n",
       "                                        'min_samples_split': [2, 5, 10],\n",
       "                                        'n_estimators': [200, 400, 600, 800,\n",
       "                                                         1000, 1200, 1400, 1600,\n",
       "                                                         1800, 2000]},\n",
       "                   pre_dispatch='2*n_jobs', random_state=42, refit=True,\n",
       "                   return_train_score=False, scoring=None, verbose=2)"
      ]
     },
     "execution_count": 27,
     "metadata": {},
     "output_type": "execute_result"
    }
   ],
   "source": [
    "# /!\\ ~5 MIN DE CHARGEMENT\n",
    "rf_random.fit(X_train_pre, y_train_pre)   "
   ]
  },
  {
   "cell_type": "code",
   "execution_count": 101,
   "metadata": {
    "scrolled": true
   },
   "outputs": [
    {
     "name": "stdout",
     "output_type": "stream",
     "text": [
      "n_estimators : 400\n",
      "min_samples_split : 5\n",
      "min_samples_leaf : 1\n",
      "max_features : sqrt\n",
      "max_depth : 30\n",
      "bootstrap : True\n"
     ]
    }
   ],
   "source": [
    "for key,value in rf_random.best_params_.items():\n",
    "    print(key, ':', value)"
   ]
  },
  {
   "cell_type": "code",
   "execution_count": 53,
   "metadata": {},
   "outputs": [
    {
     "name": "stdout",
     "output_type": "stream",
     "text": [
      "Baseline Model Performance\n",
      "Average Error: 0.0124 degrees.\n",
      "Accuracy = 97.47%.\n",
      "\n",
      "Upgraded Model Performance\n",
      "Average Error: 0.0075 degrees.\n",
      "Accuracy = 98.48%.\n",
      "\n",
      "Improvement of 1.04%.\n"
     ]
    }
   ],
   "source": [
    "def evaluate(name, model, test_features, test_labels):\n",
    "    predictions = model.predict(test_features)\n",
    "    errors = abs(predictions - test_labels)\n",
    "    mape = 100 * (np.mean(errors) / np.mean(test_labels))\n",
    "    accuracy = 100 - mape\n",
    "    \n",
    "    print(name, 'Model Performance')\n",
    "    print('Average Error: {:0.4f} degrees.'.format(np.mean(errors)))\n",
    "    print('Accuracy = {:0.2f}%.'.format(accuracy))\n",
    "    print()\n",
    "    return accuracy\n",
    "\n",
    "base_model = RandomForestClassifier(n_estimators = 10, random_state = 42)\n",
    "base_model.fit(X_train_pre, y_train_pre)\n",
    "base_accuracy = evaluate('Baseline', base_model, X_train_pre, y_train_pre)\n",
    "\n",
    "best_random = rf_random.best_estimator_\n",
    "random_accuracy = evaluate('Upgraded', best_random, X_train_pre, y_train_pre)\n",
    "print('Improvement of {:0.2f}%.'.format( 100 * (random_accuracy - base_accuracy) / base_accuracy))"
   ]
  },
  {
   "cell_type": "markdown",
   "metadata": {},
   "source": [
    "Then we can compute the AUC metric which is the one used for the submission."
   ]
  },
  {
   "cell_type": "markdown",
   "metadata": {},
   "source": [
    "<div style=\"background:#FFFFAA\">\n",
    "    <h2>Training a predictive model</h2>\n",
    "    <p>\n",
    "We provide an example of predictive model (for classification or regression) in the `sample_code_submission/` directory. It is a quite stupid model: it makes constant predictions. Replace it with your own model.\n",
    "    </div>"
   ]
  },
  {
   "cell_type": "code",
   "execution_count": 55,
   "metadata": {},
   "outputs": [],
   "source": [
    "from data_io import write\n",
    "from model import model\n",
    "\n",
    "??model"
   ]
  },
  {
   "cell_type": "markdown",
   "metadata": {},
   "source": [
    "<div style=\"background:#FFFFAA\">\n",
    "an instance of the model (run the constructor) and attempt to reload a previously saved version from `sample_code_submission/`:\n",
    "    \n",
    "</div>"
   ]
  },
  {
   "cell_type": "markdown",
   "metadata": {},
   "source": [
    "<div style=\"background:#FFFFAA\">\n",
    "<h1>Step 2: Building a predictive model</h1>\n",
    "</div>"
   ]
  },
  {
   "cell_type": "markdown",
   "metadata": {},
   "source": [
    "<div style=\"background:#FFFFAA\">\n",
    "    <h2>Loading data with DataManager</h2>\n",
    "    <p>\n",
    "We reload the data with the AutoML DataManager class because this is more convenient:\n",
    "   <br>     <span style=\"color:red\"> Keep this, it illustrates how data in AutoML formal are loaded by the ingestion program </span>\n",
    "</div>"
   ]
  },
  {
   "cell_type": "code",
   "execution_count": 56,
   "metadata": {
    "scrolled": true
   },
   "outputs": [
    {
     "name": "stdout",
     "output_type": "stream",
     "text": [
      "Info file found : /Users/patault/Documents/GitHub/Africa/starting_kit/sample_data/malaria_public.info\n",
      "DataManager : malaria\n",
      "info:\n",
      "\tusage = Malaria cell images dataset\n",
      "\tname = malaria\n",
      "\ttask = binary.classification\n",
      "\ttarget_type = Numerical\n",
      "\tfeat_type = Numerical\n",
      "\tmetric = roc_auc_score\n",
      "\ttime_budget = 1200\n",
      "\tfeat_num = 19\n",
      "\ttarget_num = 2\n",
      "\tlabel_num = 2\n",
      "\ttrain_num = 600\n",
      "\tvalid_num = 200\n",
      "\ttest_num = 200\n",
      "\thas_categorical = 0\n",
      "\thas_missing = 0\n",
      "\tis_sparse = 0\n",
      "\tformat = dense\n",
      "data:\n",
      "\tX_train = array(600, 19)\n",
      "\tY_train = array(600,)\n",
      "\tX_valid = array(200, 19)\n",
      "\tY_valid = array(200,)\n",
      "\tX_test = array(200, 19)\n",
      "\tY_test = array(200,)\n",
      "feat_type:\tarray(19,)\n",
      "feat_idx:\tarray(0,)\n",
      "\n"
     ]
    }
   ],
   "source": [
    "from data_manager import DataManager\n",
    "D = DataManager(data_name, data_dir, replace_missing=True)\n",
    "print(D)"
   ]
  },
  {
   "cell_type": "code",
   "execution_count": 66,
   "metadata": {},
   "outputs": [
    {
     "name": "stdout",
     "output_type": "stream",
     "text": [
      "Model reloaded from: sample_code_submission/malaria_model.pickle\n"
     ]
    }
   ],
   "source": [
    "M = model(best_random)   \n",
    "trained_model_name = model_dir + data_name\n",
    "\n",
    "M = M.load(trained_model_name)                  "
   ]
  },
  {
   "cell_type": "markdown",
   "metadata": {},
   "source": [
    "<div style=\"background:#FFFFAA\">\n",
    "    Train the model (unless you reloaded a trained model) and make predictions. \n",
    "</div>"
   ]
  },
  {
   "cell_type": "code",
   "execution_count": 72,
   "metadata": {
    "scrolled": true
   },
   "outputs": [
    {
     "name": "stdout",
     "output_type": "stream",
     "text": [
      "PREDICT: dim(X)= [600, 19]\n",
      "PREDICT: dim(y)= [600, 1]\n",
      "PREDICT: dim(X)= [200, 19]\n",
      "PREDICT: dim(y)= [200, 1]\n",
      "PREDICT: dim(X)= [200, 19]\n",
      "PREDICT: dim(y)= [200, 1]\n"
     ]
    }
   ],
   "source": [
    "X_train = D.data['X_train']\n",
    "Y_train = D.data['Y_train']\n",
    "    \n",
    "if not(M.is_trained):\n",
    "    M.fit(X_train, Y_train)                     \n",
    "\n",
    "Y_hat_train = M.predict(D.data['X_train']) # Optional, not really needed to test on taining examples\n",
    "Y_hat_valid = M.predict(D.data['X_valid'])\n",
    "Y_hat_test = M.predict(D.data['X_test'])"
   ]
  },
  {
   "cell_type": "markdown",
   "metadata": {},
   "source": [
    "<div style=\"background:#FFFFAA\">\n",
    "    <b> Save the trained model </b> (will be ready to reload next time around) and save the prediction results. IMPORTANT: if you save the trained model, it will be bundled with your sample code submission. Therefore your model will NOT be retrained on the challenge platform. Remove the pickle from the submission if you want the model to be retrained on the platform.\n",
    "</div>"
   ]
  },
  {
   "cell_type": "code",
   "execution_count": 73,
   "metadata": {},
   "outputs": [
    {
     "name": "stdout",
     "output_type": "stream",
     "text": [
      "\u001b[31msample_result_submission/malaria_test.predict\u001b[m\u001b[m\r\n",
      "\u001b[31msample_result_submission/malaria_train.predict\u001b[m\u001b[m\r\n",
      "\u001b[31msample_result_submission/malaria_valid.predict\u001b[m\u001b[m\r\n"
     ]
    }
   ],
   "source": [
    "M.save(trained_model_name)                 \n",
    "result_name = result_dir + data_name\n",
    "from data_io import write\n",
    "write(result_name + '_train.predict', Y_hat_train)\n",
    "write(result_name + '_valid.predict', Y_hat_valid)\n",
    "write(result_name + '_test.predict', Y_hat_test)\n",
    "!ls $result_name*"
   ]
  },
  {
   "cell_type": "markdown",
   "metadata": {},
   "source": [
    "<div style=\"background:#FFFFAA\">\n",
    "    <h2>Scoring the results</h2>\n",
    "    <h3>Load the challenge metric</h3>\n",
    "    <p>\n",
    "<b>The metric chosen for your challenge</b> is identified in the \"metric.txt\" file found in the `scoring_function/` directory. The function \"get_metric\" searches first for a metric having that name in my_metric.py, then in libscores.py, then in sklearn.metric.\n",
    "    </div>"
   ]
  },
  {
   "cell_type": "markdown",
   "metadata": {},
   "source": [
    "We use the area under the curve as our metric to evaluate our model for the moment. We chose this metric because accuracy gives us only the percentage of correctly classified examples, whereas what we are interested in is to have the lowest possible rate of false negatives (infected cells classifies as being healthy). The ROC curve we will get will help us to find a good threshold for this classification, which will not necessarily the one maximising the accuracy as the false negatives are critical in our case (but the true negatives can always be rechecked by experts). The AUC will then give us the general performance of our model given the fact that we want to maximize true positives and true negatives."
   ]
  },
  {
   "cell_type": "code",
   "execution_count": 74,
   "metadata": {},
   "outputs": [
    {
     "name": "stdout",
     "output_type": "stream",
     "text": [
      "Using scoring metric: roc_auc_score\n",
      "Score for RandomForestClassifier : \n",
      " 0.9501\n",
      "Score for MLPClassifier : \n",
      " 0.7494\n",
      "Score for SGDClassifier : \n",
      " 0.5358\n",
      "Score for GaussianNB : \n",
      " 0.9063\n",
      "Score for KNeighborsClassifier : \n",
      " 0.6703\n",
      "\n",
      " ----> mean = 0.9526700480000001 \n",
      "\n"
     ]
    }
   ],
   "source": [
    "from libscores import get_metric\n",
    "metric_name, scoring_function = get_metric()\n",
    "print('Using scoring metric:', metric_name)\n",
    "\n",
    "target_names = ['Parasitized', 'Uninfected']\n",
    "for i in range(0, len(results)):\n",
    "    mean += round(scoring_function(y_test_pre, results[i]), 4)\n",
    "    print(\"Score for \"+ name_classifiers[i] + \" : \\n\", round(scoring_function(y_test_pre, results[i]),4))\n",
    "mean /= len(results)\n",
    "print('\\n ----> mean =', mean, '\\n')"
   ]
  },
  {
   "cell_type": "markdown",
   "metadata": {},
   "source": [
    "<div style=\"background:#FFFFAA\">\n",
    "    <h3> Training performance </h3>\n",
    "    <p>\n",
    "The participants normally posess target values (labels) only for training examples (except for the sample data). We compute with the `example` metric the training score, which should be zero for perfect predictions.\n",
    "        </div>"
   ]
  },
  {
   "cell_type": "code",
   "execution_count": 75,
   "metadata": {},
   "outputs": [
    {
     "name": "stdout",
     "output_type": "stream",
     "text": [
      "Training score for the roc_auc_score metric = 0.9967\n",
      "Ideal score for the roc_auc_score metric = 1.0000\n"
     ]
    }
   ],
   "source": [
    "print('Training score for the', metric_name, 'metric = %5.4f' % scoring_function(Y_train, Y_hat_train))\n",
    "print('Ideal score for the', metric_name, 'metric = %5.4f' % scoring_function(Y_train, Y_train))"
   ]
  },
  {
   "cell_type": "markdown",
   "metadata": {},
   "source": [
    "You can add here other scores and result visualization."
   ]
  },
  {
   "cell_type": "code",
   "execution_count": 76,
   "metadata": {},
   "outputs": [
    {
     "data": {
      "text/plain": [
       "array([[300,   0],\n",
       "       [  2, 298]])"
      ]
     },
     "execution_count": 76,
     "metadata": {},
     "output_type": "execute_result"
    }
   ],
   "source": [
    "from sklearn.metrics import confusion_matrix\n",
    "confusion_matrix(Y_train, Y_hat_train)"
   ]
  },
  {
   "cell_type": "code",
   "execution_count": 77,
   "metadata": {},
   "outputs": [],
   "source": [
    "from sklearn.metrics import roc_curve, auc\n",
    "\n",
    "size = round(len(D.data['X_train'])/10)\n",
    "\n",
    "probas_ = M.classifier.fit(D.data['X_train'][:size], D.data['Y_train'][:size].ravel()).predict_proba(D.data['X_train'][size:])\n",
    "# Compute ROC curve and area the curve\n",
    "fpr, tpr, thresholds = roc_curve(D.data['Y_train'][size:].ravel(), probas_[:, 1])\n",
    "roc_auc = auc(fpr, tpr)"
   ]
  },
  {
   "cell_type": "code",
   "execution_count": 78,
   "metadata": {},
   "outputs": [
    {
     "data": {
      "image/png": "[encoded data removed]",
      "text/plain": [
       "<Figure size 576x504 with 1 Axes>"
      ]
     },
     "metadata": {
      "needs_background": "light"
     },
     "output_type": "display_data"
    }
   ],
   "source": [
    "import matplotlib.pyplot as plt\n",
    "\n",
    "plt.figure(figsize=(8, 7))\n",
    "\n",
    "plt.plot(fpr, tpr, color='darkorange', label='ROC curve (area = %0.2f)' % roc_auc)\n",
    "plt.plot([0, 1], [0, 1], color='navy', linestyle='--')\n",
    "plt.xlim([0.0, 1.0])\n",
    "plt.ylim([0.0, 1.05])\n",
    "plt.xlabel('False Positive Rate')\n",
    "plt.ylabel('True Positive Rate')\n",
    "plt.title('Receiver operating characteristic example')\n",
    "plt.legend(loc=\"lower right\")\n",
    "plt.show()"
   ]
  },
  {
   "cell_type": "markdown",
   "metadata": {},
   "source": [
    "This plot of the ROC curve is a good indicator for us to find a good threshold for our model, here we will prefer a very low rate of false negatives (1 - true positives rate). If we really want something near to 100% true positives, we might consider a model giving us 40% of false positive rate, we might consider that threshold as a medical diagnosis is a critical application."
   ]
  },
  {
   "cell_type": "markdown",
   "metadata": {},
   "source": [
    "<div style=\"background:#FFFFAA\">\n",
    "    <h3>Cross-validation performance</h3>\n",
    "    <p>\n",
    "The participants do not have access to the labels Y_valid and Y_test to self-assess their validation and test performances. But training performance is not a good prediction of validation or test performance. Using cross-validation, the training data is split into multiple training/test folds, which allows participants to self-assess their model during development. The average CV result and 95% confidence interval is displayed.\n",
    "   </div>"
   ]
  },
  {
   "cell_type": "code",
   "execution_count": 79,
   "metadata": {},
   "outputs": [
    {
     "name": "stdout",
     "output_type": "stream",
     "text": [
      "CV score (95 perc. CI):\n",
      "-----------------------\n",
      "FIT: dim(X)= [480, 19]\n",
      "FIT: dim(y)= [480, 1]\n",
      "PREDICT: dim(X)= [120, 19]\n",
      "PREDICT: dim(y)= [120, 1]\n",
      "FIT: dim(X)= [480, 19]\n",
      "FIT: dim(y)= [480, 1]\n",
      "PREDICT: dim(X)= [120, 19]\n",
      "PREDICT: dim(y)= [120, 1]\n",
      "FIT: dim(X)= [480, 19]\n",
      "FIT: dim(y)= [480, 1]\n",
      "PREDICT: dim(X)= [120, 19]\n",
      "PREDICT: dim(y)= [120, 1]\n",
      "FIT: dim(X)= [480, 19]\n",
      "FIT: dim(y)= [480, 1]\n",
      "PREDICT: dim(X)= [120, 19]\n",
      "PREDICT: dim(y)= [120, 1]\n",
      "FIT: dim(X)= [480, 19]\n",
      "FIT: dim(y)= [480, 1]\n",
      "PREDICT: dim(X)= [120, 19]\n",
      "PREDICT: dim(y)= [120, 1]\n",
      "RandomForestClassifier  : 0.94 (+/- 0.05)\n",
      "FIT: dim(X)= [480, 19]\n",
      "FIT: dim(y)= [480, 1]\n",
      "PREDICT: dim(X)= [120, 19]\n",
      "PREDICT: dim(y)= [120, 1]\n",
      "FIT: dim(X)= [480, 19]\n",
      "FIT: dim(y)= [480, 1]\n",
      "PREDICT: dim(X)= [120, 19]\n",
      "PREDICT: dim(y)= [120, 1]\n",
      "FIT: dim(X)= [480, 19]\n",
      "FIT: dim(y)= [480, 1]\n",
      "PREDICT: dim(X)= [120, 19]\n",
      "PREDICT: dim(y)= [120, 1]\n",
      "FIT: dim(X)= [480, 19]\n",
      "FIT: dim(y)= [480, 1]\n",
      "PREDICT: dim(X)= [120, 19]\n",
      "PREDICT: dim(y)= [120, 1]\n",
      "FIT: dim(X)= [480, 19]\n",
      "FIT: dim(y)= [480, 1]\n",
      "PREDICT: dim(X)= [120, 19]\n",
      "PREDICT: dim(y)= [120, 1]\n",
      "MLPClassifier  : 0.72 (+/- 0.20)\n",
      "FIT: dim(X)= [480, 19]\n",
      "FIT: dim(y)= [480, 1]\n",
      "PREDICT: dim(X)= [120, 19]\n",
      "PREDICT: dim(y)= [120, 1]\n",
      "FIT: dim(X)= [480, 19]\n",
      "FIT: dim(y)= [480, 1]\n",
      "PREDICT: dim(X)= [120, 19]\n",
      "PREDICT: dim(y)= [120, 1]\n",
      "FIT: dim(X)= [480, 19]\n",
      "FIT: dim(y)= [480, 1]\n",
      "PREDICT: dim(X)= [120, 19]\n",
      "PREDICT: dim(y)= [120, 1]\n",
      "FIT: dim(X)= [480, 19]\n",
      "FIT: dim(y)= [480, 1]\n",
      "PREDICT: dim(X)= [120, 19]\n",
      "PREDICT: dim(y)= [120, 1]\n",
      "FIT: dim(X)= [480, 19]\n",
      "FIT: dim(y)= [480, 1]\n",
      "PREDICT: dim(X)= [120, 19]\n",
      "PREDICT: dim(y)= [120, 1]\n",
      "SGDClassifier  : 0.62 (+/- 0.16)\n",
      "FIT: dim(X)= [480, 19]\n",
      "FIT: dim(y)= [480, 1]\n",
      "PREDICT: dim(X)= [120, 19]\n",
      "PREDICT: dim(y)= [120, 1]\n",
      "FIT: dim(X)= [480, 19]\n",
      "FIT: dim(y)= [480, 1]\n",
      "PREDICT: dim(X)= [120, 19]\n",
      "PREDICT: dim(y)= [120, 1]\n",
      "FIT: dim(X)= [480, 19]\n",
      "FIT: dim(y)= [480, 1]\n",
      "PREDICT: dim(X)= [120, 19]\n",
      "PREDICT: dim(y)= [120, 1]\n",
      "FIT: dim(X)= [480, 19]\n",
      "FIT: dim(y)= [480, 1]\n",
      "PREDICT: dim(X)= [120, 19]\n",
      "PREDICT: dim(y)= [120, 1]\n",
      "FIT: dim(X)= [480, 19]\n",
      "FIT: dim(y)= [480, 1]\n",
      "PREDICT: dim(X)= [120, 19]\n",
      "PREDICT: dim(y)= [120, 1]\n",
      "GaussianNB  : 0.86 (+/- 0.04)\n",
      "FIT: dim(X)= [480, 19]\n",
      "FIT: dim(y)= [480, 1]\n",
      "PREDICT: dim(X)= [120, 19]\n",
      "PREDICT: dim(y)= [120, 1]\n",
      "FIT: dim(X)= [480, 19]\n",
      "FIT: dim(y)= [480, 1]\n",
      "PREDICT: dim(X)= [120, 19]\n",
      "PREDICT: dim(y)= [120, 1]\n",
      "FIT: dim(X)= [480, 19]\n",
      "FIT: dim(y)= [480, 1]\n",
      "PREDICT: dim(X)= [120, 19]\n",
      "PREDICT: dim(y)= [120, 1]\n",
      "FIT: dim(X)= [480, 19]\n",
      "FIT: dim(y)= [480, 1]\n",
      "PREDICT: dim(X)= [120, 19]\n",
      "PREDICT: dim(y)= [120, 1]\n",
      "FIT: dim(X)= [480, 19]\n",
      "FIT: dim(y)= [480, 1]\n",
      "PREDICT: dim(X)= [120, 19]\n",
      "PREDICT: dim(y)= [120, 1]\n",
      "KNeighborsClassifier  : 0.64 (+/- 0.03)\n"
     ]
    }
   ],
   "source": [
    "from sklearn.metrics import make_scorer\n",
    "from sklearn.model_selection import cross_val_score\n",
    "\n",
    "scores = []\n",
    "print('CV score (95 perc. CI):\\n-----------------------')    \n",
    "\n",
    "for i in range(5) :\n",
    "    M = model(classifiers[i])\n",
    "    score = cross_val_score(M, X_train, Y_train, cv=5, scoring=make_scorer(scoring_function))\n",
    "    scores.append(score)\n",
    "    print(name_classifiers[i], \" : %0.2f (+/- %0.2f)\" % (scores[i].mean(), scores[i].std() * 2))"
   ]
  },
  {
   "cell_type": "code",
   "execution_count": 80,
   "metadata": {},
   "outputs": [
    {
     "name": "stdout",
     "output_type": "stream",
     "text": [
      "FIT: dim(X)= [480, 18]\n",
      "FIT: dim(y)= [480, 1]\n",
      "PREDICT: dim(X)= [120, 18]\n",
      "PREDICT: dim(y)= [120, 1]\n",
      "FIT: dim(X)= [480, 18]\n",
      "FIT: dim(y)= [480, 1]\n",
      "PREDICT: dim(X)= [120, 18]\n",
      "PREDICT: dim(y)= [120, 1]\n",
      "FIT: dim(X)= [480, 18]\n",
      "FIT: dim(y)= [480, 1]\n",
      "PREDICT: dim(X)= [120, 18]\n",
      "PREDICT: dim(y)= [120, 1]\n",
      "FIT: dim(X)= [480, 18]\n",
      "FIT: dim(y)= [480, 1]\n",
      "PREDICT: dim(X)= [120, 18]\n",
      "PREDICT: dim(y)= [120, 1]\n",
      "FIT: dim(X)= [480, 18]\n",
      "FIT: dim(y)= [480, 1]\n",
      "PREDICT: dim(X)= [120, 18]\n",
      "PREDICT: dim(y)= [120, 1]\n",
      "\n",
      "CV score without the black_pixels attribute (95 perc. CI): 0.95 (+/- 0.05)\n"
     ]
    },
    {
     "data": {
      "text/plain": [
       "array([0.98360656, 0.91636566, 0.93103448, 0.94781145, 0.95117845])"
      ]
     },
     "execution_count": 80,
     "metadata": {},
     "output_type": "execute_result"
    }
   ],
   "source": [
    "data2 = data.drop(['nb_black_pixels'], axis=1)\n",
    "X_train2 = data2.drop(['target'], axis= 1)\n",
    "X_train2\n",
    "M = model(classifiers[0])\n",
    "scores = cross_val_score(M, X_train2, Y_train, cv=5, scoring=make_scorer(scoring_function))\n",
    "print('\\nCV score without the black_pixels attribute (95 perc. CI): %0.2f (+/- %0.2f)' % (scores.mean(), scores.std() * 2))\n",
    "scores"
   ]
  },
  {
   "cell_type": "markdown",
   "metadata": {},
   "source": [
    "The scores of our model with and without the nb_black_pixels attribute is the same. Therefore we can conclude that there is no data leakage."
   ]
  },
  {
   "cell_type": "markdown",
   "metadata": {},
   "source": [
    "____"
   ]
  },
  {
   "cell_type": "markdown",
   "metadata": {},
   "source": [
    "### Feature importance"
   ]
  },
  {
   "cell_type": "markdown",
   "metadata": {},
   "source": [
    "The advantage of using a Random forest models is that we can evaluate which feature in taken into account  when predicting the target classes, here you can have an idea of which feature was the most relevant for solving our task"
   ]
  },
  {
   "cell_type": "code",
   "execution_count": 81,
   "metadata": {},
   "outputs": [
    {
     "data": {
      "image/png": "[encoded data removed]",
      "text/plain": [
       "<Figure size 648x504 with 1 Axes>"
      ]
     },
     "metadata": {
      "needs_background": "light"
     },
     "output_type": "display_data"
    }
   ],
   "source": [
    "import pandas as pd\n",
    "\n",
    "feature_importance = pd.DataFrame(M.classifier.feature_importances_,index= list(data)[:19], columns=['feature importance']).sort_values('feature importance', ascending = False)\n",
    "feature_importance.plot.bar(figsize=(9,7))\n",
    "plt.show()"
   ]
  },
  {
   "cell_type": "markdown",
   "metadata": {},
   "source": [
    "\n",
    "\n",
    "<div style=\"background:#FFFFAA\">\n",
    "<h1> Step 3: Making a submission </h1> \n",
    "\n",
    "<h2> Unit testing </h2> \n",
    "\n",
    "It is <b><span style=\"color:red\">important that you test your submission files before submitting them</span></b>. All you have to do to make a submission is modify the file <code>model.py</code> in the <code>sample_code_submission/</code> directory, then run this test to make sure everything works fine. This is the actual program that will be run on the server to test your submission. \n",
    "<br>\n",
    "Keep the sample code simple.\n",
    "</div>"
   ]
  },
  {
   "cell_type": "code",
   "execution_count": 82,
   "metadata": {
    "scrolled": true
   },
   "outputs": [
    {
     "name": "stdout",
     "output_type": "stream",
     "text": [
      "Could not find conda environment: python3\n",
      "You can list all discoverable environments with `conda info --envs`.\n",
      "\n",
      "Using input_dir: /Users/patault/Documents/GitHub/Africa/starting_kit/sample_data\n",
      "Using output_dir: /Users/patault/Documents/GitHub/Africa/starting_kit/sample_result_submission\n",
      "Using program_dir: /Users/patault/Documents/GitHub/Africa/starting_kit/ingestion_program\n",
      "Using submission_dir: /Users/patault/Documents/GitHub/Africa/starting_kit/sample_code_submission\n",
      "\n",
      "========== Ingestion program version 6 ==========\n",
      "\n",
      "************************************************\n",
      "******** Processing dataset Malaria ********\n",
      "************************************************\n",
      "========= Reading and converting data ==========\n",
      "Info file found : /Users/patault/Documents/GitHub/Africa/starting_kit/sample_data/malaria_public.info\n",
      "========= Reading /Users/patault/Documents/GitHub/Africa/starting_kit/sample_data/malaria_feat.type\n",
      "[+] Success in  0.00 sec\n",
      "========= Reading /Users/patault/Documents/GitHub/Africa/starting_kit/sample_data/malaria_train.data\n",
      "Replace missing values by 0 (slow, sorry)\n",
      "[+] Success in  0.01 sec\n",
      "========= Reading /Users/patault/Documents/GitHub/Africa/starting_kit/sample_data/malaria_train.solution\n",
      "[+] Success in  0.00 sec\n",
      "========= Reading /Users/patault/Documents/GitHub/Africa/starting_kit/sample_data/malaria_valid.data\n",
      "Replace missing values by 0 (slow, sorry)\n",
      "[+] Success in  0.00 sec\n",
      "========= Reading /Users/patault/Documents/GitHub/Africa/starting_kit/sample_data/malaria_valid.solution\n",
      "[+] Success in  0.00 sec\n",
      "========= Reading /Users/patault/Documents/GitHub/Africa/starting_kit/sample_data/malaria_test.data\n",
      "Replace missing values by 0 (slow, sorry)\n",
      "[+] Success in  0.00 sec\n",
      "========= Reading /Users/patault/Documents/GitHub/Africa/starting_kit/sample_data/malaria_test.solution\n",
      "[+] Success in  0.00 sec\n",
      "DataManager : malaria\n",
      "info:\n",
      "\tusage = Malaria cell images dataset\n",
      "\tname = malaria\n",
      "\ttask = binary.classification\n",
      "\ttarget_type = Numerical\n",
      "\tfeat_type = Numerical\n",
      "\tmetric = roc_auc_score\n",
      "\ttime_budget = 1200\n",
      "\tfeat_num = 19\n",
      "\ttarget_num = 2\n",
      "\tlabel_num = 2\n",
      "\ttrain_num = 600\n",
      "\tvalid_num = 200\n",
      "\ttest_num = 200\n",
      "\thas_categorical = 0\n",
      "\thas_missing = 0\n",
      "\tis_sparse = 0\n",
      "\tformat = dense\n",
      "data:\n",
      "\tX_train = array(600, 19)\n",
      "\tY_train = array(600,)\n",
      "\tX_valid = array(200, 19)\n",
      "\tY_valid = array(200,)\n",
      "\tX_test = array(200, 19)\n",
      "\tY_test = array(200,)\n",
      "feat_type:\tarray(19,)\n",
      "feat_idx:\tarray(19,)\n",
      "\n",
      "[+] Size of uploaded data  64.00 bytes\n",
      "[+] Cumulated time budget (all tasks so far)  1200.00 sec\n",
      "[+] Time budget for this task 1200.00 sec\n",
      "[+] Remaining time after reading data 1199.97 sec\n",
      "======== Creating model ==========\n",
      "**********************************************************\n",
      "****** Attempting to reload model to avoid training ******\n",
      "**********************************************************\n",
      "Model reloaded from: /Users/patault/Documents/GitHub/Africa/starting_kit/sample_code_submission/malaria_model.pickle\n",
      "[+] Model reloaded, no need to train!\n",
      "PREDICT: dim(X)= [600, 19]\n",
      "PREDICT: dim(y)= [600, 1]\n",
      "PREDICT: dim(X)= [200, 19]\n",
      "PREDICT: dim(y)= [200, 1]\n",
      "PREDICT: dim(X)= [200, 19]\n",
      "PREDICT: dim(y)= [200, 1]\n",
      "[+] Prediction success, time spent so far  0.04 sec\n",
      "======== Saving results to: /Users/patault/Documents/GitHub/Africa/starting_kit/sample_result_submission\n",
      "[+] Results saved, time spent so far  0.05 sec\n",
      "[+] End cycle, time left 1199.95 sec\n",
      "[+] Done\n",
      "[+] Overall time spent  4.58 sec ::  Overall time budget 1200.00 sec\n"
     ]
    }
   ],
   "source": [
    "!source activate python3; python $problem_dir/ingestion.py $data_dir $result_dir $problem_dir $model_dir"
   ]
  },
  {
   "cell_type": "markdown",
   "metadata": {},
   "source": [
    "<div style=\"background:#FFFFAA\">\n",
    "Also test the scoring program:\n",
    "    </div>"
   ]
  },
  {
   "cell_type": "code",
   "execution_count": 83,
   "metadata": {},
   "outputs": [
    {
     "name": "stdout",
     "output_type": "stream",
     "text": [
      "Traceback (most recent call last):\r\n",
      "  File \"scoring_program//score.py\", line 22, in <module>\r\n",
      "    import yaml\r\n",
      "ModuleNotFoundError: No module named 'yaml'\r\n"
     ]
    }
   ],
   "source": [
    "scoring_output_dir = 'scoring_output'\n",
    "!python $score_dir/score.py $data_dir $result_dir $scoring_output_dir"
   ]
  },
  {
   "cell_type": "markdown",
   "metadata": {},
   "source": [
    "## Parameter optimization to try to improve the area under the roc curve."
   ]
  },
  {
   "cell_type": "code",
   "execution_count": 84,
   "metadata": {},
   "outputs": [
    {
     "name": "stdout",
     "output_type": "stream",
     "text": [
      "FIT: dim(X)= [480, 19]\n",
      "FIT: dim(y)= [480, 1]\n",
      "PREDICT: dim(X)= [120, 19]\n",
      "PREDICT: dim(y)= [120, 1]\n",
      "FIT: dim(X)= [480, 19]\n",
      "FIT: dim(y)= [480, 1]\n",
      "PREDICT: dim(X)= [120, 19]\n",
      "PREDICT: dim(y)= [120, 1]\n",
      "FIT: dim(X)= [480, 19]\n",
      "FIT: dim(y)= [480, 1]\n",
      "PREDICT: dim(X)= [120, 19]\n",
      "PREDICT: dim(y)= [120, 1]\n",
      "FIT: dim(X)= [480, 19]\n",
      "FIT: dim(y)= [480, 1]\n",
      "PREDICT: dim(X)= [120, 19]\n",
      "PREDICT: dim(y)= [120, 1]\n",
      "FIT: dim(X)= [480, 19]\n",
      "FIT: dim(y)= [480, 1]\n",
      "PREDICT: dim(X)= [120, 19]\n",
      "PREDICT: dim(y)= [120, 1]\n",
      "FIT: dim(X)= [480, 19]\n",
      "FIT: dim(y)= [480, 1]\n",
      "PREDICT: dim(X)= [120, 19]\n",
      "PREDICT: dim(y)= [120, 1]\n",
      "FIT: dim(X)= [480, 19]\n",
      "FIT: dim(y)= [480, 1]\n",
      "PREDICT: dim(X)= [120, 19]\n",
      "PREDICT: dim(y)= [120, 1]\n",
      "FIT: dim(X)= [480, 19]\n",
      "FIT: dim(y)= [480, 1]\n",
      "PREDICT: dim(X)= [120, 19]\n",
      "PREDICT: dim(y)= [120, 1]\n",
      "FIT: dim(X)= [480, 19]\n",
      "FIT: dim(y)= [480, 1]\n",
      "PREDICT: dim(X)= [120, 19]\n",
      "PREDICT: dim(y)= [120, 1]\n",
      "FIT: dim(X)= [480, 19]\n",
      "FIT: dim(y)= [480, 1]\n",
      "PREDICT: dim(X)= [120, 19]\n",
      "PREDICT: dim(y)= [120, 1]\n",
      "FIT: dim(X)= [480, 19]\n",
      "FIT: dim(y)= [480, 1]\n",
      "PREDICT: dim(X)= [120, 19]\n",
      "PREDICT: dim(y)= [120, 1]\n",
      "FIT: dim(X)= [480, 19]\n",
      "FIT: dim(y)= [480, 1]\n",
      "PREDICT: dim(X)= [120, 19]\n",
      "PREDICT: dim(y)= [120, 1]\n",
      "FIT: dim(X)= [480, 19]\n",
      "FIT: dim(y)= [480, 1]\n",
      "PREDICT: dim(X)= [120, 19]\n",
      "PREDICT: dim(y)= [120, 1]\n",
      "FIT: dim(X)= [480, 19]\n",
      "FIT: dim(y)= [480, 1]\n",
      "PREDICT: dim(X)= [120, 19]\n",
      "PREDICT: dim(y)= [120, 1]\n",
      "FIT: dim(X)= [480, 19]\n",
      "FIT: dim(y)= [480, 1]\n",
      "PREDICT: dim(X)= [120, 19]\n",
      "PREDICT: dim(y)= [120, 1]\n",
      "FIT: dim(X)= [480, 19]\n",
      "FIT: dim(y)= [480, 1]\n",
      "PREDICT: dim(X)= [120, 19]\n",
      "PREDICT: dim(y)= [120, 1]\n",
      "FIT: dim(X)= [480, 19]\n",
      "FIT: dim(y)= [480, 1]\n",
      "PREDICT: dim(X)= [120, 19]\n",
      "PREDICT: dim(y)= [120, 1]\n",
      "FIT: dim(X)= [480, 19]\n",
      "FIT: dim(y)= [480, 1]\n",
      "PREDICT: dim(X)= [120, 19]\n",
      "PREDICT: dim(y)= [120, 1]\n",
      "FIT: dim(X)= [480, 19]\n",
      "FIT: dim(y)= [480, 1]\n",
      "PREDICT: dim(X)= [120, 19]\n",
      "PREDICT: dim(y)= [120, 1]\n",
      "FIT: dim(X)= [480, 19]\n",
      "FIT: dim(y)= [480, 1]\n",
      "PREDICT: dim(X)= [120, 19]\n",
      "PREDICT: dim(y)= [120, 1]\n",
      "FIT: dim(X)= [480, 19]\n",
      "FIT: dim(y)= [480, 1]\n",
      "PREDICT: dim(X)= [120, 19]\n",
      "PREDICT: dim(y)= [120, 1]\n",
      "FIT: dim(X)= [480, 19]\n",
      "FIT: dim(y)= [480, 1]\n",
      "PREDICT: dim(X)= [120, 19]\n",
      "PREDICT: dim(y)= [120, 1]\n",
      "FIT: dim(X)= [480, 19]\n",
      "FIT: dim(y)= [480, 1]\n",
      "PREDICT: dim(X)= [120, 19]\n",
      "PREDICT: dim(y)= [120, 1]\n",
      "FIT: dim(X)= [480, 19]\n",
      "FIT: dim(y)= [480, 1]\n",
      "PREDICT: dim(X)= [120, 19]\n",
      "PREDICT: dim(y)= [120, 1]\n",
      "FIT: dim(X)= [480, 19]\n",
      "FIT: dim(y)= [480, 1]\n",
      "PREDICT: dim(X)= [120, 19]\n",
      "PREDICT: dim(y)= [120, 1]\n",
      "FIT: dim(X)= [480, 19]\n",
      "FIT: dim(y)= [480, 1]\n",
      "PREDICT: dim(X)= [120, 19]\n",
      "PREDICT: dim(y)= [120, 1]\n",
      "FIT: dim(X)= [480, 19]\n",
      "FIT: dim(y)= [480, 1]\n",
      "PREDICT: dim(X)= [120, 19]\n",
      "PREDICT: dim(y)= [120, 1]\n",
      "FIT: dim(X)= [480, 19]\n",
      "FIT: dim(y)= [480, 1]\n",
      "PREDICT: dim(X)= [120, 19]\n",
      "PREDICT: dim(y)= [120, 1]\n",
      "FIT: dim(X)= [480, 19]\n",
      "FIT: dim(y)= [480, 1]\n",
      "PREDICT: dim(X)= [120, 19]\n",
      "PREDICT: dim(y)= [120, 1]\n",
      "FIT: dim(X)= [480, 19]\n",
      "FIT: dim(y)= [480, 1]\n",
      "PREDICT: dim(X)= [120, 19]\n",
      "PREDICT: dim(y)= [120, 1]\n",
      "FIT: dim(X)= [480, 19]\n",
      "FIT: dim(y)= [480, 1]\n",
      "PREDICT: dim(X)= [120, 19]\n",
      "PREDICT: dim(y)= [120, 1]\n",
      "FIT: dim(X)= [480, 19]\n",
      "FIT: dim(y)= [480, 1]\n",
      "PREDICT: dim(X)= [120, 19]\n",
      "PREDICT: dim(y)= [120, 1]\n",
      "FIT: dim(X)= [480, 19]\n",
      "FIT: dim(y)= [480, 1]\n",
      "PREDICT: dim(X)= [120, 19]\n",
      "PREDICT: dim(y)= [120, 1]\n",
      "FIT: dim(X)= [480, 19]\n",
      "FIT: dim(y)= [480, 1]\n",
      "PREDICT: dim(X)= [120, 19]\n",
      "PREDICT: dim(y)= [120, 1]\n",
      "FIT: dim(X)= [480, 19]\n",
      "FIT: dim(y)= [480, 1]\n",
      "PREDICT: dim(X)= [120, 19]\n",
      "PREDICT: dim(y)= [120, 1]\n",
      "FIT: dim(X)= [480, 19]\n",
      "FIT: dim(y)= [480, 1]\n",
      "PREDICT: dim(X)= [120, 19]\n",
      "PREDICT: dim(y)= [120, 1]\n",
      "FIT: dim(X)= [480, 19]\n",
      "FIT: dim(y)= [480, 1]\n",
      "PREDICT: dim(X)= [120, 19]\n",
      "PREDICT: dim(y)= [120, 1]\n",
      "FIT: dim(X)= [480, 19]\n",
      "FIT: dim(y)= [480, 1]\n",
      "PREDICT: dim(X)= [120, 19]\n",
      "PREDICT: dim(y)= [120, 1]\n",
      "FIT: dim(X)= [480, 19]\n",
      "FIT: dim(y)= [480, 1]\n",
      "PREDICT: dim(X)= [120, 19]\n",
      "PREDICT: dim(y)= [120, 1]\n",
      "FIT: dim(X)= [480, 19]\n",
      "FIT: dim(y)= [480, 1]\n",
      "PREDICT: dim(X)= [120, 19]\n",
      "PREDICT: dim(y)= [120, 1]\n",
      "FIT: dim(X)= [480, 19]\n",
      "FIT: dim(y)= [480, 1]\n",
      "PREDICT: dim(X)= [120, 19]\n",
      "PREDICT: dim(y)= [120, 1]\n",
      "FIT: dim(X)= [480, 19]\n",
      "FIT: dim(y)= [480, 1]\n",
      "PREDICT: dim(X)= [120, 19]\n",
      "PREDICT: dim(y)= [120, 1]\n",
      "FIT: dim(X)= [480, 19]\n",
      "FIT: dim(y)= [480, 1]\n",
      "PREDICT: dim(X)= [120, 19]\n",
      "PREDICT: dim(y)= [120, 1]\n",
      "FIT: dim(X)= [480, 19]\n",
      "FIT: dim(y)= [480, 1]\n",
      "PREDICT: dim(X)= [120, 19]\n",
      "PREDICT: dim(y)= [120, 1]\n",
      "FIT: dim(X)= [480, 19]\n",
      "FIT: dim(y)= [480, 1]\n",
      "PREDICT: dim(X)= [120, 19]\n",
      "PREDICT: dim(y)= [120, 1]\n",
      "FIT: dim(X)= [480, 19]\n",
      "FIT: dim(y)= [480, 1]\n",
      "PREDICT: dim(X)= [120, 19]\n",
      "PREDICT: dim(y)= [120, 1]\n",
      "FIT: dim(X)= [480, 19]\n",
      "FIT: dim(y)= [480, 1]\n",
      "PREDICT: dim(X)= [120, 19]\n",
      "PREDICT: dim(y)= [120, 1]\n",
      "FIT: dim(X)= [480, 19]\n",
      "FIT: dim(y)= [480, 1]\n",
      "PREDICT: dim(X)= [120, 19]\n",
      "PREDICT: dim(y)= [120, 1]\n",
      "FIT: dim(X)= [480, 19]\n",
      "FIT: dim(y)= [480, 1]\n",
      "PREDICT: dim(X)= [120, 19]\n",
      "PREDICT: dim(y)= [120, 1]\n",
      "FIT: dim(X)= [480, 19]\n",
      "FIT: dim(y)= [480, 1]\n",
      "PREDICT: dim(X)= [120, 19]\n",
      "PREDICT: dim(y)= [120, 1]\n",
      "FIT: dim(X)= [480, 19]\n",
      "FIT: dim(y)= [480, 1]\n",
      "PREDICT: dim(X)= [120, 19]\n",
      "PREDICT: dim(y)= [120, 1]\n",
      "FIT: dim(X)= [480, 19]\n",
      "FIT: dim(y)= [480, 1]\n",
      "PREDICT: dim(X)= [120, 19]\n",
      "PREDICT: dim(y)= [120, 1]\n",
      "FIT: dim(X)= [480, 19]\n",
      "FIT: dim(y)= [480, 1]\n",
      "PREDICT: dim(X)= [120, 19]\n",
      "PREDICT: dim(y)= [120, 1]\n",
      "FIT: dim(X)= [480, 19]\n",
      "FIT: dim(y)= [480, 1]\n",
      "PREDICT: dim(X)= [120, 19]\n",
      "PREDICT: dim(y)= [120, 1]\n",
      "FIT: dim(X)= [480, 19]\n",
      "FIT: dim(y)= [480, 1]\n",
      "PREDICT: dim(X)= [120, 19]\n",
      "PREDICT: dim(y)= [120, 1]\n",
      "FIT: dim(X)= [480, 19]\n",
      "FIT: dim(y)= [480, 1]\n",
      "PREDICT: dim(X)= [120, 19]\n",
      "PREDICT: dim(y)= [120, 1]\n",
      "FIT: dim(X)= [480, 19]\n",
      "FIT: dim(y)= [480, 1]\n",
      "PREDICT: dim(X)= [120, 19]\n",
      "PREDICT: dim(y)= [120, 1]\n",
      "FIT: dim(X)= [480, 19]\n",
      "FIT: dim(y)= [480, 1]\n",
      "PREDICT: dim(X)= [120, 19]\n",
      "PREDICT: dim(y)= [120, 1]\n",
      "FIT: dim(X)= [480, 19]\n",
      "FIT: dim(y)= [480, 1]\n",
      "PREDICT: dim(X)= [120, 19]\n",
      "PREDICT: dim(y)= [120, 1]\n",
      "FIT: dim(X)= [480, 19]\n",
      "FIT: dim(y)= [480, 1]\n",
      "PREDICT: dim(X)= [120, 19]\n",
      "PREDICT: dim(y)= [120, 1]\n",
      "FIT: dim(X)= [480, 19]\n",
      "FIT: dim(y)= [480, 1]\n",
      "PREDICT: dim(X)= [120, 19]\n",
      "PREDICT: dim(y)= [120, 1]\n",
      "FIT: dim(X)= [480, 19]\n",
      "FIT: dim(y)= [480, 1]\n",
      "PREDICT: dim(X)= [120, 19]\n",
      "PREDICT: dim(y)= [120, 1]\n",
      "FIT: dim(X)= [480, 19]\n",
      "FIT: dim(y)= [480, 1]\n",
      "PREDICT: dim(X)= [120, 19]\n",
      "PREDICT: dim(y)= [120, 1]\n",
      "FIT: dim(X)= [480, 19]\n",
      "FIT: dim(y)= [480, 1]\n",
      "PREDICT: dim(X)= [120, 19]\n",
      "PREDICT: dim(y)= [120, 1]\n",
      "FIT: dim(X)= [480, 19]\n",
      "FIT: dim(y)= [480, 1]\n",
      "PREDICT: dim(X)= [120, 19]\n",
      "PREDICT: dim(y)= [120, 1]\n",
      "FIT: dim(X)= [480, 19]\n",
      "FIT: dim(y)= [480, 1]\n",
      "PREDICT: dim(X)= [120, 19]\n",
      "PREDICT: dim(y)= [120, 1]\n",
      "FIT: dim(X)= [480, 19]\n",
      "FIT: dim(y)= [480, 1]\n",
      "PREDICT: dim(X)= [120, 19]\n",
      "PREDICT: dim(y)= [120, 1]\n",
      "FIT: dim(X)= [480, 19]\n",
      "FIT: dim(y)= [480, 1]\n",
      "PREDICT: dim(X)= [120, 19]\n",
      "PREDICT: dim(y)= [120, 1]\n",
      "FIT: dim(X)= [480, 19]\n",
      "FIT: dim(y)= [480, 1]\n",
      "PREDICT: dim(X)= [120, 19]\n",
      "PREDICT: dim(y)= [120, 1]\n",
      "FIT: dim(X)= [480, 19]\n",
      "FIT: dim(y)= [480, 1]\n",
      "PREDICT: dim(X)= [120, 19]\n",
      "PREDICT: dim(y)= [120, 1]\n",
      "FIT: dim(X)= [480, 19]\n",
      "FIT: dim(y)= [480, 1]\n",
      "PREDICT: dim(X)= [120, 19]\n",
      "PREDICT: dim(y)= [120, 1]\n",
      "FIT: dim(X)= [480, 19]\n",
      "FIT: dim(y)= [480, 1]\n",
      "PREDICT: dim(X)= [120, 19]\n",
      "PREDICT: dim(y)= [120, 1]\n",
      "FIT: dim(X)= [480, 19]\n",
      "FIT: dim(y)= [480, 1]\n",
      "PREDICT: dim(X)= [120, 19]\n",
      "PREDICT: dim(y)= [120, 1]\n",
      "FIT: dim(X)= [480, 19]\n",
      "FIT: dim(y)= [480, 1]\n",
      "PREDICT: dim(X)= [120, 19]\n",
      "PREDICT: dim(y)= [120, 1]\n",
      "FIT: dim(X)= [480, 19]\n",
      "FIT: dim(y)= [480, 1]\n",
      "PREDICT: dim(X)= [120, 19]\n",
      "PREDICT: dim(y)= [120, 1]\n",
      "FIT: dim(X)= [480, 19]\n",
      "FIT: dim(y)= [480, 1]\n",
      "PREDICT: dim(X)= [120, 19]\n",
      "PREDICT: dim(y)= [120, 1]\n",
      "FIT: dim(X)= [480, 19]\n",
      "FIT: dim(y)= [480, 1]\n",
      "PREDICT: dim(X)= [120, 19]\n",
      "PREDICT: dim(y)= [120, 1]\n",
      "FIT: dim(X)= [480, 19]\n",
      "FIT: dim(y)= [480, 1]\n",
      "PREDICT: dim(X)= [120, 19]\n",
      "PREDICT: dim(y)= [120, 1]\n",
      "FIT: dim(X)= [480, 19]\n",
      "FIT: dim(y)= [480, 1]\n",
      "PREDICT: dim(X)= [120, 19]\n",
      "PREDICT: dim(y)= [120, 1]\n",
      "FIT: dim(X)= [480, 19]\n",
      "FIT: dim(y)= [480, 1]\n",
      "PREDICT: dim(X)= [120, 19]\n",
      "PREDICT: dim(y)= [120, 1]\n"
     ]
    }
   ],
   "source": [
    "from sklearn.model_selection import ParameterGrid\n",
    "from sklearn.ensemble import RandomForestClassifier\n",
    "\n",
    "# import os\n",
    "# import sys\n",
    "# sys.stdout = open(os.devnull, 'w')\n",
    "\n",
    "# Define the hyperparameters\n",
    "hyperparameters = {\n",
    "    'max_depth': [5, 10, 20,40], \n",
    "    'n_estimators' : [2,10, 20, 100] }\n",
    "\n",
    "# Compute all combinations\n",
    "parameter_grid = list(ParameterGrid(hyperparameters))\n",
    "\n",
    "# Just a table to save the results\n",
    "#resultsDF = pd.DataFrame(columns=['factors', 'regularization', 'alpha', 'auc'])\n",
    "resultsDF = pd.DataFrame()\n",
    "\n",
    "for parameter_combination in parameter_grid:    \n",
    "    clf = RandomForestClassifier (random_state = 42, n_estimators =parameter_combination['n_estimators'],max_depth =parameter_combination['max_depth'])\n",
    "    M = model (classifier=clf)\n",
    "    \n",
    "    \n",
    "    scores = cross_val_score(M, X_train, Y_train, cv=5, scoring=make_scorer(scoring_function))\n",
    "    \n",
    "    \n",
    "    parameter_combination['auc'] = scores.mean()\n",
    "    \n",
    "    resultsDF = resultsDF.append(parameter_combination, ignore_index=True)\n",
    "    \n",
    "res = resultsDF.sort_values(by=['auc'], ascending=False)\n"
   ]
  },
  {
   "cell_type": "markdown",
   "metadata": {
    "collapsed": true
   },
   "source": [
    "<div style=\"background:#FFFFAA\">\n",
    "    <h1> Preparing the submission </h1>\n",
    "\n",
    "Zip the contents of `sample_code_submission/` (without the directory), or download the challenge public_data and run the command in the previous cell, after replacing sample_data by public_data.\n",
    "Then zip the contents of `sample_result_submission/` (without the directory).\n",
    "<b><span style=\"color:red\">Do NOT zip the data with your submissions</span></b>."
   ]
  },
  {
   "cell_type": "code",
   "execution_count": 85,
   "metadata": {},
   "outputs": [
    {
     "name": "stdout",
     "output_type": "stream",
     "text": [
      "Submit one of these files:\n",
      "../sample_code_submission_20-02-20-19-13.zip\n",
      "../sample_result_submission_20-02-20-19-13.zip\n"
     ]
    }
   ],
   "source": [
    "import datetime \n",
    "from data_io import zipdir\n",
    "\n",
    "the_date = datetime.datetime.now().strftime(\"%y-%m-%d-%H-%M\")\n",
    "sample_code_submission = '../sample_code_submission_' + the_date + '.zip'\n",
    "sample_result_submission = '../sample_result_submission_' + the_date + '.zip'\n",
    "zipdir(sample_code_submission, model_dir)\n",
    "zipdir(sample_result_submission, result_dir)\n",
    "print(\"Submit one of these files:\\n\" + sample_code_submission + \"\\n\" + sample_result_submission)"
   ]
  },
  {
   "cell_type": "code",
   "execution_count": null,
   "metadata": {},
   "outputs": [],
   "source": []
  }
 ],
 "metadata": {
  "kernelspec": {
   "display_name": "Python 3",
   "language": "python",
   "name": "python3"
  },
  "language_info": {
   "codemirror_mode": {
    "name": "ipython",
    "version": 3
   },
   "file_extension": ".py",
   "mimetype": "text/x-python",
   "name": "python",
   "nbconvert_exporter": "python",
   "pygments_lexer": "ipython3",
   "version": "3.7.4"
  }
 },
 "nbformat": 4,
 "nbformat_minor": 1
}
